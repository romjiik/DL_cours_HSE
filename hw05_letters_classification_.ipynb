{
  "cells": [
    {
      "cell_type": "markdown",
      "metadata": {
        "id": "view-in-github",
        "colab_type": "text"
      },
      "source": [
        "<a href=\"https://colab.research.google.com/github/romjiik/DL_cours_HSE/blob/main/hw05_letters_classification_.ipynb\" target=\"_parent\"><img src=\"https://colab.research.google.com/assets/colab-badge.svg\" alt=\"Open In Colab\"/></a>"
      ]
    },
    {
      "cell_type": "code",
      "execution_count": null,
      "id": "f822c665",
      "metadata": {
        "execution": {
          "iopub.execute_input": "2023-06-18T19:47:06.730542Z",
          "iopub.status.busy": "2023-06-18T19:47:06.730133Z",
          "iopub.status.idle": "2023-06-18T19:47:12.135591Z",
          "shell.execute_reply": "2023-06-18T19:47:12.134607Z"
        },
        "id": "f822c665",
        "papermill": {
          "duration": 5.421483,
          "end_time": "2023-06-18T19:47:12.138363",
          "exception": false,
          "start_time": "2023-06-18T19:47:06.716880",
          "status": "completed"
        },
        "tags": []
      },
      "outputs": [],
      "source": [
        "import numpy as np\n",
        "import pandas as pd\n",
        "import cv2\n",
        "import torch\n",
        "from torch.utils.data import Dataset, DataLoader\n",
        "import torch.optim as optim\n",
        "import matplotlib.pyplot as plt\n",
        "from torchvision import transforms\n",
        "from sklearn.model_selection import train_test_split\n",
        "import random\n",
        "from PIL import Image, ImageDraw, ImageFont\n",
        "from collections import Counter\n",
        "from tqdm.auto import tqdm\n",
        "import os"
      ]
    },
    {
      "cell_type": "markdown",
      "source": [
        "# Преобразования картинки"
      ],
      "metadata": {
        "id": "7qD0tuKcRhUl"
      },
      "id": "7qD0tuKcRhUl"
    },
    {
      "cell_type": "code",
      "execution_count": null,
      "id": "bad4565b",
      "metadata": {
        "execution": {
          "iopub.execute_input": "2023-06-18T19:47:12.187577Z",
          "iopub.status.busy": "2023-06-18T19:47:12.187294Z",
          "iopub.status.idle": "2023-06-18T19:47:33.308246Z",
          "shell.execute_reply": "2023-06-18T19:47:33.307177Z"
        },
        "papermill": {
          "duration": 21.133947,
          "end_time": "2023-06-18T19:47:33.310844",
          "exception": false,
          "start_time": "2023-06-18T19:47:12.176897",
          "status": "completed"
        },
        "tags": [],
        "id": "bad4565b"
      },
      "outputs": [],
      "source": [
        "Image.MAX_IMAGE_PIXELS = None\n",
        "path = '/kaggle/input/letters-26/leters_26.png'\n",
        "img = Image.open(path).convert('RGB')"
      ]
    },
    {
      "cell_type": "markdown",
      "id": "c9bac0f1",
      "metadata": {
        "id": "c9bac0f1",
        "papermill": {
          "duration": 0.009631,
          "end_time": "2023-06-18T19:47:33.357879",
          "exception": false,
          "start_time": "2023-06-18T19:47:33.348248",
          "status": "completed"
        },
        "tags": []
      },
      "source": [
        "Размер картинки 30000 на 30000. Всего 10000 букв и размер картинки кратен количеству букв. Значит размер одной картинки 300х300"
      ]
    },
    {
      "cell_type": "code",
      "execution_count": null,
      "id": "c0b94329",
      "metadata": {
        "execution": {
          "iopub.execute_input": "2023-06-18T19:47:33.378615Z",
          "iopub.status.busy": "2023-06-18T19:47:33.378306Z",
          "iopub.status.idle": "2023-06-18T19:47:33.382095Z",
          "shell.execute_reply": "2023-06-18T19:47:33.381191Z"
        },
        "id": "c0b94329",
        "papermill": {
          "duration": 0.01654,
          "end_time": "2023-06-18T19:47:33.384061",
          "exception": false,
          "start_time": "2023-06-18T19:47:33.367521",
          "status": "completed"
        },
        "tags": []
      },
      "outputs": [],
      "source": [
        "# plt.imshow(img[:300, :300, :])"
      ]
    },
    {
      "cell_type": "markdown",
      "id": "0d7879a8",
      "metadata": {
        "id": "0d7879a8",
        "papermill": {
          "duration": 0.009357,
          "end_time": "2023-06-18T19:47:33.402993",
          "exception": false,
          "start_time": "2023-06-18T19:47:33.393636",
          "status": "completed"
        },
        "tags": []
      },
      "source": [
        "Создадим массив, где каждый элемент - это одна буква. Размер такого массива должен быть 10000"
      ]
    },
    {
      "cell_type": "code",
      "execution_count": null,
      "id": "45403ee7",
      "metadata": {
        "execution": {
          "iopub.execute_input": "2023-06-18T19:47:33.525470Z",
          "iopub.status.busy": "2023-06-18T19:47:33.524685Z",
          "iopub.status.idle": "2023-06-18T19:49:07.959599Z",
          "shell.execute_reply": "2023-06-18T19:49:07.958589Z"
        },
        "papermill": {
          "duration": 94.448664,
          "end_time": "2023-06-18T19:49:07.962374",
          "exception": false,
          "start_time": "2023-06-18T19:47:33.513710",
          "status": "completed"
        },
        "tags": [],
        "id": "45403ee7"
      },
      "outputs": [],
      "source": [
        "save_path = '/kaggle/working/dl_hw/data_test'\n",
        "count = 1\n",
        "for i in range(0, 30000, 300):\n",
        "    for j in range(0, 30000, 300):\n",
        "        box = (i, j, i+300, j+300)\n",
        "        letter_image = img.crop(box)\n",
        "        letter_image = letter_image.rotate(-(i // 300 + j // 300)*5, Image.NEAREST, expand = 1, fillcolor = 'white')\n",
        "        if not os.path.exists(save_path):\n",
        "              os.makedirs(save_path, exist_ok=True)\n",
        "        letter_image.save(f\"{save_path}/{count:05}.png\")\n",
        "        count += 1\n",
        ""
      ]
    },
    {
      "cell_type": "markdown",
      "source": [
        "# Генерация датасета"
      ],
      "metadata": {
        "id": "MFuhCc52RlCj"
      },
      "id": "MFuhCc52RlCj"
    },
    {
      "cell_type": "code",
      "execution_count": null,
      "id": "134c8550",
      "metadata": {
        "execution": {
          "iopub.execute_input": "2023-06-18T19:49:08.100772Z",
          "iopub.status.busy": "2023-06-18T19:49:08.100449Z",
          "iopub.status.idle": "2023-06-18T19:49:08.105223Z",
          "shell.execute_reply": "2023-06-18T19:49:08.104299Z"
        },
        "id": "134c8550",
        "papermill": {
          "duration": 0.017739,
          "end_time": "2023-06-18T19:49:08.107250",
          "exception": false,
          "start_time": "2023-06-18T19:49:08.089511",
          "status": "completed"
        },
        "tags": []
      },
      "outputs": [],
      "source": [
        "# набор шрифтов\n",
        "font_list = [\n",
        "    '/usr/local/lib/python3.10/dist-packages/matplotlib/mpl-data/fonts/ttf/DejaVuSans-Bold.ttf',\n",
        "    '/usr/local/lib/python3.10/dist-packages/matplotlib/mpl-data/fonts/ttf/DejaVuSansMono-Bold.ttf',\n",
        "    '/usr/local/lib/python3.10/dist-packages/matplotlib/mpl-data/fonts/ttf/DejaVuSansMono.ttf',\n",
        "    '/usr/local/lib/python3.10/dist-packages/matplotlib/mpl-data/fonts/ttf/DejaVuSans.ttf',\n",
        "    '/usr/local/lib/python3.10/dist-packages/matplotlib/mpl-data/fonts/ttf/DejaVuSerif-Italic.ttf',\n",
        "    '/usr/local/lib/python3.10/dist-packages/matplotlib/mpl-data/fonts/ttf/DejaVuSerif.ttf',\n",
        " ]"
      ]
    },
    {
      "cell_type": "code",
      "execution_count": null,
      "id": "820eced1",
      "metadata": {
        "execution": {
          "iopub.execute_input": "2023-06-18T19:49:08.129337Z",
          "iopub.status.busy": "2023-06-18T19:49:08.128693Z",
          "iopub.status.idle": "2023-06-18T19:49:08.142519Z",
          "shell.execute_reply": "2023-06-18T19:49:08.141682Z"
        },
        "id": "820eced1",
        "papermill": {
          "duration": 0.027356,
          "end_time": "2023-06-18T19:49:08.144576",
          "exception": false,
          "start_time": "2023-06-18T19:49:08.117220",
          "status": "completed"
        },
        "tags": []
      },
      "outputs": [],
      "source": [
        "def generate_dataset(letters, quantity, train=True):\n",
        "  images_counter = Counter()\n",
        "  images, chars = [], []\n",
        "  for letter in letters:\n",
        "    # создаю папку куда буду сохранять картинки\n",
        "    if train:\n",
        "      target_path = '/kaggle/working/dl_hw/data_train'\n",
        "    else:\n",
        "      target_path = '/kaggle/working/dl_hw/data_val'\n",
        "    class_folder = target_path + \"/\" + str(letter)\n",
        "    if not os.path.exists(class_folder):\n",
        "      os.makedirs(class_folder, exist_ok=True)\n",
        "\n",
        "    for i in range(quantity):\n",
        "      # создаю картинку\n",
        "      img = Image.new('RGBA', (300, 300), 'white')\n",
        "      draw = ImageDraw.Draw(img)\n",
        "      # цвет букв\n",
        "      color_letter = (random.randint(0, 200), random.randint(0, 200), random.randint(0, 200))\n",
        "      # размер букв\n",
        "      size=random.randint(100, 200)\n",
        "      # шрифт\n",
        "      font = ImageFont.truetype(font_list[5], size=size) #перебором нашел, что у меня 5 шрифт\n",
        "      # пишу текст\n",
        "      draw.text((random.randint(0, 300 - size), random.randint(0, 300 - size)), letter, fill=color_letter, font=font)\n",
        "      # рисую круги\n",
        "      circles = random.randint(10, 40)\n",
        "      for circle in range(circles):\n",
        "        # цвет кружков\n",
        "        color_circle = (random.randint(1, 200), random.randint(1, 200), random.randint(1, 200), random.randint(50, 70))\n",
        "        # радиус\n",
        "        r = random.randint(5, 70)\n",
        "        # координаты\n",
        "        x_0 = random.randint(0, 300 - r)\n",
        "        y_0 = random.randint(0, 300 - r)\n",
        "        x_1 = x_0 + r\n",
        "        y_1 = y_0 + r\n",
        "        overlay = Image.new('RGBA', img.size)\n",
        "        draw = ImageDraw.Draw(overlay)\n",
        "        draw.ellipse([x_0, y_0, x_1, y_1], fill=color_circle)\n",
        "        img = Image.alpha_composite(img, overlay)\n",
        "      img = img.convert('RGB')\n",
        "      # сохраняю картинку\n",
        "      images_counter[letter] += 1\n",
        "      file_name = f\"/{images_counter[letter]:05}.png\"\n",
        "      full_image_file_name = class_folder + file_name\n",
        "      images.append(full_image_file_name)\n",
        "      chars.append(letter)\n",
        "      img = np.array(img)\n",
        "      cv2.imwrite(full_image_file_name, img)\n",
        "\n",
        "  pd.DataFrame({'image': images, 'letter': chars}).to_csv(f'{target_path}/my_data.csv', index=False)\n"
      ]
    },
    {
      "cell_type": "code",
      "execution_count": null,
      "id": "e5310053",
      "metadata": {
        "execution": {
          "iopub.execute_input": "2023-06-18T19:49:08.164995Z",
          "iopub.status.busy": "2023-06-18T19:49:08.164485Z",
          "iopub.status.idle": "2023-06-18T19:52:17.576640Z",
          "shell.execute_reply": "2023-06-18T19:52:17.575607Z"
        },
        "id": "e5310053",
        "papermill": {
          "duration": 189.425276,
          "end_time": "2023-06-18T19:52:17.579538",
          "exception": false,
          "start_time": "2023-06-18T19:49:08.154262",
          "status": "completed"
        },
        "tags": []
      },
      "outputs": [],
      "source": [
        "import string\n",
        "\n",
        "alphabet = list(string.ascii_uppercase)\n",
        "quantity_train = 1000\n",
        "quantity_val = 200\n",
        "\n",
        "generate_dataset(alphabet, quantity_train)\n",
        "generate_dataset(alphabet, quantity_val, train=False)"
      ]
    },
    {
      "cell_type": "code",
      "execution_count": null,
      "id": "ad9879c5",
      "metadata": {
        "execution": {
          "iopub.execute_input": "2023-06-18T19:52:17.602572Z",
          "iopub.status.busy": "2023-06-18T19:52:17.602255Z",
          "iopub.status.idle": "2023-06-18T19:52:17.608586Z",
          "shell.execute_reply": "2023-06-18T19:52:17.607631Z"
        },
        "id": "ad9879c5",
        "papermill": {
          "duration": 0.020284,
          "end_time": "2023-06-18T19:52:17.610639",
          "exception": false,
          "start_time": "2023-06-18T19:52:17.590355",
          "status": "completed"
        },
        "tags": []
      },
      "outputs": [],
      "source": [
        "letters_mapping = {\n",
        "    'A': 0,\n",
        "    'B': 1,\n",
        "    'C': 2,\n",
        "    'D': 3,\n",
        "    'E': 4,\n",
        "    'F': 5,\n",
        "    'G': 6,\n",
        "    'H': 7,\n",
        "    'I': 8,\n",
        "    'J': 9,\n",
        "    'K': 10,\n",
        "    'L': 11,\n",
        "    'M': 12,\n",
        "    'N': 13,\n",
        "    'O': 14,\n",
        "    'P': 15,\n",
        "    'Q': 16,\n",
        "    'R': 17,\n",
        "    'S': 18,\n",
        "    'T': 19,\n",
        "    'U': 20,\n",
        "    'V': 21,\n",
        "    'W': 22,\n",
        "    'X': 23,\n",
        "    'Y': 24,\n",
        "    'Z': 25\n",
        "}"
      ]
    },
    {
      "cell_type": "markdown",
      "source": [
        "# Модель"
      ],
      "metadata": {
        "id": "yFs6GyIaRovV"
      },
      "id": "yFs6GyIaRovV"
    },
    {
      "cell_type": "code",
      "execution_count": null,
      "id": "bbd09431",
      "metadata": {
        "execution": {
          "iopub.execute_input": "2023-06-18T19:52:17.632752Z",
          "iopub.status.busy": "2023-06-18T19:52:17.631893Z",
          "iopub.status.idle": "2023-06-18T19:52:17.639782Z",
          "shell.execute_reply": "2023-06-18T19:52:17.638897Z"
        },
        "id": "bbd09431",
        "papermill": {
          "duration": 0.02136,
          "end_time": "2023-06-18T19:52:17.641746",
          "exception": false,
          "start_time": "2023-06-18T19:52:17.620386",
          "status": "completed"
        },
        "tags": []
      },
      "outputs": [],
      "source": [
        "class LetterDataset(Dataset):\n",
        "  def __init__(self, path, val=True, transform=None):\n",
        "    super().__init__()\n",
        "    self.data = pd.read_csv(path)\n",
        "    self.transform = transform\n",
        "\n",
        "\n",
        "  def __len__(self):\n",
        "    return self.data.shape[0]\n",
        "\n",
        "  def __getitem__(self, index):\n",
        "    img = self.data.loc[index, 'image']\n",
        "    letter = self.data.loc[index, 'letter']\n",
        "    image = Image.open(img)\n",
        "    if self.transform is not None:\n",
        "      image = self.transform(image)\n",
        "    return {'image': image, 'letter': letters_mapping[letter]}"
      ]
    },
    {
      "cell_type": "code",
      "execution_count": null,
      "id": "74270b64",
      "metadata": {
        "execution": {
          "iopub.execute_input": "2023-06-18T19:52:17.717017Z",
          "iopub.status.busy": "2023-06-18T19:52:17.716241Z",
          "iopub.status.idle": "2023-06-18T19:52:17.724464Z",
          "shell.execute_reply": "2023-06-18T19:52:17.723696Z"
        },
        "id": "74270b64",
        "papermill": {
          "duration": 0.020785,
          "end_time": "2023-06-18T19:52:17.726349",
          "exception": false,
          "start_time": "2023-06-18T19:52:17.705564",
          "status": "completed"
        },
        "tags": []
      },
      "outputs": [],
      "source": [
        "import torch\n",
        "import torch.nn as nn\n",
        "import torch.nn.functional as F\n",
        "from torchvision.models import resnet18, ResNet18_Weights\n",
        "\n",
        "class CustomResNet(nn.Module):\n",
        "    def __init__(self):\n",
        "        super().__init__()\n",
        "        self.model = resnet18(weights=ResNet18_Weights.IMAGENET1K_V1)\n",
        "        hidden_size = self.model.fc.in_features\n",
        "        self.model.fc = nn.Linear(hidden_size, 26)\n",
        "\n",
        "    def forward(self, x):\n",
        "        return self.model(x)\n",
        "\n",
        "    def compute_all(self, batch):  # удобно сделать функцию, в которой вычисляется лосс по пришедшему батчу\n",
        "        x = batch['image'].float()\n",
        "        y = batch['letter']\n",
        "        logits = self.forward(x)\n",
        "        loss = F.cross_entropy(logits, y)\n",
        "        acc = (logits.argmax(axis=1) == y).float().mean().cpu().numpy()\n",
        "        metrics = dict(acc=acc)\n",
        "        return loss, metrics"
      ]
    },
    {
      "cell_type": "code",
      "execution_count": null,
      "id": "db1ed45e",
      "metadata": {
        "execution": {
          "iopub.execute_input": "2023-06-18T19:52:17.746875Z",
          "iopub.status.busy": "2023-06-18T19:52:17.746614Z",
          "iopub.status.idle": "2023-06-18T19:52:26.731906Z",
          "shell.execute_reply": "2023-06-18T19:52:26.730859Z"
        },
        "id": "db1ed45e",
        "papermill": {
          "duration": 8.998371,
          "end_time": "2023-06-18T19:52:26.734376",
          "exception": false,
          "start_time": "2023-06-18T19:52:17.736005",
          "status": "completed"
        },
        "tags": [],
        "outputId": "7879a754-80be-45e4-dacf-481b04cafdb8"
      },
      "outputs": [
        {
          "name": "stderr",
          "output_type": "stream",
          "text": [
            "/opt/conda/lib/python3.10/site-packages/tensorflow_io/python/ops/__init__.py:98: UserWarning: unable to load libtensorflow_io_plugins.so: unable to open file: libtensorflow_io_plugins.so, from paths: ['/opt/conda/lib/python3.10/site-packages/tensorflow_io/python/ops/libtensorflow_io_plugins.so']\n",
            "caused by: ['/opt/conda/lib/python3.10/site-packages/tensorflow_io/python/ops/libtensorflow_io_plugins.so: undefined symbol: _ZN3tsl6StatusC1EN10tensorflow5error4CodeESt17basic_string_viewIcSt11char_traitsIcEENS_14SourceLocationE']\n",
            "  warnings.warn(f\"unable to load libtensorflow_io_plugins.so: {e}\")\n",
            "/opt/conda/lib/python3.10/site-packages/tensorflow_io/python/ops/__init__.py:104: UserWarning: file system plugins are not loaded: unable to open file: libtensorflow_io.so, from paths: ['/opt/conda/lib/python3.10/site-packages/tensorflow_io/python/ops/libtensorflow_io.so']\n",
            "caused by: ['/opt/conda/lib/python3.10/site-packages/tensorflow_io/python/ops/libtensorflow_io.so: undefined symbol: _ZTVN10tensorflow13GcsFileSystemE']\n",
            "  warnings.warn(f\"file system plugins are not loaded: {e}\")\n"
          ]
        }
      ],
      "source": [
        "from torch.utils.tensorboard import SummaryWriter\n",
        "\n",
        "\n",
        "class Trainer:\n",
        "    def __init__(self, model, optimizer, train_dataset, val_dataset, batch_size=128):\n",
        "        self.model = model\n",
        "        self.optimizer = optimizer\n",
        "        self.train_dataset = train_dataset\n",
        "        self.val_dataset = val_dataset\n",
        "\n",
        "        self.batch_size = batch_size\n",
        "\n",
        "        self.device = 'cpu'\n",
        "        if torch.cuda.is_available():\n",
        "            self.device = torch.cuda.current_device()\n",
        "            self.model = self.model.to(self.device)\n",
        "\n",
        "        self.global_step = 0\n",
        "        self.writer = SummaryWriter(\"./tmp/\")\n",
        "\n",
        "    def save_checkpoint(self, path):\n",
        "        torch.save(self.model.state_dict(), path)\n",
        "\n",
        "    def train(self, num_epochs):\n",
        "        model = self.model\n",
        "        optimizer = self.optimizer\n",
        "\n",
        "        train_loader = DataLoader(self.train_dataset, shuffle=True, pin_memory=True, batch_size=self.batch_size)\n",
        "\n",
        "        # валидационный датасет не стоит перемешивать!\n",
        "        val_loader = DataLoader(self.val_dataset, shuffle=False, pin_memory=True, batch_size=self.batch_size)\n",
        "        best_loss = float('inf')\n",
        "\n",
        "        for epoch in range(num_epochs):\n",
        "            model.train()\n",
        "            for batch in tqdm(train_loader):\n",
        "                batch = {k: v.to(self.device) for k, v in batch.items()}\n",
        "                loss, metric = model.compute_all(batch)\n",
        "                optimizer.zero_grad()\n",
        "                loss.backward()\n",
        "                optimizer.step()\n",
        "                for k, v in metric.items():\n",
        "                    self.writer.add_scalar(k, v, global_step=self.global_step)\n",
        "\n",
        "                self.writer.add_scalar(\"loss\", loss.item(), global_step=self.global_step)\n",
        "\n",
        "                self.global_step += 1\n",
        "\n",
        "            print(metric['acc'])\n",
        "\n",
        "            model.eval()\n",
        "\n",
        "            val_losses = []\n",
        "            val_metrics = []\n",
        "            for batch in tqdm(val_loader):\n",
        "                batch = {k: v.to(self.device) for k, v in batch.items()}\n",
        "                loss, metric = model.compute_all(batch)\n",
        "                val_losses.append(loss.item())\n",
        "                val_metrics.append(metric['acc'])\n",
        "\n",
        "            val_loss = np.mean(val_losses)\n",
        "            val_metric = np.mean(val_metrics)\n",
        "            print(val_metric)\n",
        "            if val_loss < best_loss:\n",
        "                self.save_checkpoint(\"./best_checkpoint.pth\")\n",
        "                best_loss = val_loss\n",
        "                best_acc = val_metric\n",
        "        return best_loss, best_acc"
      ]
    },
    {
      "cell_type": "markdown",
      "source": [
        "# Обучение"
      ],
      "metadata": {
        "id": "bo7KTpQpRzFT"
      },
      "id": "bo7KTpQpRzFT"
    },
    {
      "cell_type": "code",
      "execution_count": null,
      "id": "d60bc2cb",
      "metadata": {
        "execution": {
          "iopub.execute_input": "2023-06-18T19:52:26.786048Z",
          "iopub.status.busy": "2023-06-18T19:52:26.785763Z",
          "iopub.status.idle": "2023-06-18T19:52:33.190642Z",
          "shell.execute_reply": "2023-06-18T19:52:33.189622Z"
        },
        "id": "d60bc2cb",
        "papermill": {
          "duration": 6.419338,
          "end_time": "2023-06-18T19:52:33.193659",
          "exception": false,
          "start_time": "2023-06-18T19:52:26.774321",
          "status": "completed"
        },
        "tags": [],
        "outputId": "7ca388c8-8155-48de-c980-4fabbfad19d5"
      },
      "outputs": [
        {
          "name": "stderr",
          "output_type": "stream",
          "text": [
            "Downloading: \"https://download.pytorch.org/models/resnet18-f37072fd.pth\" to /root/.cache/torch/hub/checkpoints/resnet18-f37072fd.pth\n",
            "100%|██████████| 44.7M/44.7M [00:00<00:00, 190MB/s]\n"
          ]
        }
      ],
      "source": [
        "model = CustomResNet()\n",
        "opt = optim.Adam(model.parameters(), lr=0.01)\n",
        "\n",
        "data_path_train = '/kaggle/working/dl_hw/data_train/my_data.csv'\n",
        "data_path_val = '/kaggle/working/dl_hw/data_val/my_data.csv'\n",
        "\n",
        "transform_to_tensor_train = transforms.Compose([\n",
        "    transforms.Resize(256),\n",
        "    transforms.ElasticTransform(alpha=25.0),\n",
        "    transforms.ToTensor()\n",
        "])\n",
        "\n",
        "transform_to_tensor_val = transforms.Compose([\n",
        "    transforms.Resize(256),\n",
        "    transforms.ToTensor()\n",
        "])\n",
        "\n",
        "train = LetterDataset(data_path_train, transform=transform_to_tensor_train)\n",
        "val = LetterDataset(data_path_val, transform=transform_to_tensor_val)\n",
        "\n",
        "trainer = Trainer(model, opt, train, val, batch_size=128)"
      ]
    },
    {
      "cell_type": "code",
      "execution_count": null,
      "id": "29929bf9",
      "metadata": {
        "execution": {
          "iopub.execute_input": "2023-06-18T19:52:33.225437Z",
          "iopub.status.busy": "2023-06-18T19:52:33.224955Z",
          "iopub.status.idle": "2023-06-18T21:31:35.445187Z",
          "shell.execute_reply": "2023-06-18T21:31:35.444071Z"
        },
        "id": "29929bf9",
        "outputId": "39bd9a9a-ea6a-4ccc-e674-5722363ea4f4",
        "papermill": {
          "duration": 5942.23843,
          "end_time": "2023-06-18T21:31:35.447364",
          "exception": false,
          "start_time": "2023-06-18T19:52:33.208934",
          "status": "completed"
        },
        "tags": [],
        "colab": {
          "referenced_widgets": [
            "7a1ac2c48a6d480ca894170a65d34e3c",
            "8da238fdbb5648f3a781d300b5af9b38",
            "903904b24e8d44f596cfac9890655e3a",
            "3ec96252488e48d79b6e18696aa35ed3",
            "24447d07a4e74d51986a687930bc38c0",
            "5bfb32c4485242a499972d8fb1846668"
          ]
        }
      },
      "outputs": [
        {
          "data": {
            "application/vnd.jupyter.widget-view+json": {
              "model_id": "7a1ac2c48a6d480ca894170a65d34e3c",
              "version_major": 2,
              "version_minor": 0
            },
            "text/plain": [
              "  0%|          | 0/204 [00:00<?, ?it/s]"
            ]
          },
          "metadata": {},
          "output_type": "display_data"
        },
        {
          "name": "stdout",
          "output_type": "stream",
          "text": [
            "0.875\n"
          ]
        },
        {
          "data": {
            "application/vnd.jupyter.widget-view+json": {
              "model_id": "8da238fdbb5648f3a781d300b5af9b38",
              "version_major": 2,
              "version_minor": 0
            },
            "text/plain": [
              "  0%|          | 0/41 [00:00<?, ?it/s]"
            ]
          },
          "metadata": {},
          "output_type": "display_data"
        },
        {
          "name": "stdout",
          "output_type": "stream",
          "text": [
            "0.050990853\n"
          ]
        },
        {
          "data": {
            "application/vnd.jupyter.widget-view+json": {
              "model_id": "903904b24e8d44f596cfac9890655e3a",
              "version_major": 2,
              "version_minor": 0
            },
            "text/plain": [
              "  0%|          | 0/204 [00:00<?, ?it/s]"
            ]
          },
          "metadata": {},
          "output_type": "display_data"
        },
        {
          "name": "stdout",
          "output_type": "stream",
          "text": [
            "1.0\n"
          ]
        },
        {
          "data": {
            "application/vnd.jupyter.widget-view+json": {
              "model_id": "3ec96252488e48d79b6e18696aa35ed3",
              "version_major": 2,
              "version_minor": 0
            },
            "text/plain": [
              "  0%|          | 0/41 [00:00<?, ?it/s]"
            ]
          },
          "metadata": {},
          "output_type": "display_data"
        },
        {
          "name": "stdout",
          "output_type": "stream",
          "text": [
            "0.9946646\n"
          ]
        },
        {
          "data": {
            "application/vnd.jupyter.widget-view+json": {
              "model_id": "24447d07a4e74d51986a687930bc38c0",
              "version_major": 2,
              "version_minor": 0
            },
            "text/plain": [
              "  0%|          | 0/204 [00:00<?, ?it/s]"
            ]
          },
          "metadata": {},
          "output_type": "display_data"
        },
        {
          "name": "stdout",
          "output_type": "stream",
          "text": [
            "1.0\n"
          ]
        },
        {
          "data": {
            "application/vnd.jupyter.widget-view+json": {
              "model_id": "5bfb32c4485242a499972d8fb1846668",
              "version_major": 2,
              "version_minor": 0
            },
            "text/plain": [
              "  0%|          | 0/41 [00:00<?, ?it/s]"
            ]
          },
          "metadata": {},
          "output_type": "display_data"
        },
        {
          "name": "stdout",
          "output_type": "stream",
          "text": [
            "0.5050686\n",
            "(0.01766648275987813, 0.9946646)\n"
          ]
        }
      ],
      "source": [
        "print(trainer.train(3))\n",
        "torch.save(model.state_dict(), \"custom_resnet.pt\")  # важно сохранить веса обученой модели!"
      ]
    },
    {
      "cell_type": "markdown",
      "source": [
        "# Предсказания"
      ],
      "metadata": {
        "id": "bPuiHk0gR3z5"
      },
      "id": "bPuiHk0gR3z5"
    },
    {
      "cell_type": "code",
      "execution_count": null,
      "id": "bbaf3257",
      "metadata": {
        "execution": {
          "iopub.execute_input": "2023-06-18T21:31:35.504288Z",
          "iopub.status.busy": "2023-06-18T21:31:35.504022Z",
          "iopub.status.idle": "2023-06-18T21:31:35.511950Z",
          "shell.execute_reply": "2023-06-18T21:31:35.511128Z"
        },
        "papermill": {
          "duration": 0.022831,
          "end_time": "2023-06-18T21:31:35.513903",
          "exception": false,
          "start_time": "2023-06-18T21:31:35.491072",
          "status": "completed"
        },
        "tags": [],
        "id": "bbaf3257"
      },
      "outputs": [],
      "source": [
        "class ImageDataset(Dataset):\n",
        "  def __init__(self, data_path, transform=None):\n",
        "    super().__init__()\n",
        "    self.data_path = data_path\n",
        "    self.transform = transform\n",
        "    self.all_files = []\n",
        "    self.files = sorted(os.listdir(f'{data_path}/'))\n",
        "    for i in tqdm(self.files, total=len(self.files)):\n",
        "      self.all_files.append(i)\n",
        "\n",
        "  def __len__(self):\n",
        "    return len(self.all_files)\n",
        "\n",
        "  def __getitem__(self, index):\n",
        "    img = Image.open(f\"{self.data_path}/{index+1:05}.png\")\n",
        "    if self.transform is not None:\n",
        "      img = self.transform(img)\n",
        "    return {'image': img}"
      ]
    },
    {
      "cell_type": "code",
      "execution_count": null,
      "id": "8335b6ff",
      "metadata": {
        "execution": {
          "iopub.execute_input": "2023-06-18T21:31:35.538407Z",
          "iopub.status.busy": "2023-06-18T21:31:35.537679Z",
          "iopub.status.idle": "2023-06-18T21:31:35.574752Z",
          "shell.execute_reply": "2023-06-18T21:31:35.573789Z"
        },
        "id": "8335b6ff",
        "papermill": {
          "duration": 0.052658,
          "end_time": "2023-06-18T21:31:35.578062",
          "exception": false,
          "start_time": "2023-06-18T21:31:35.525404",
          "status": "completed"
        },
        "tags": [],
        "colab": {
          "referenced_widgets": [
            "64fe30177225471e9000aa281e84497e"
          ]
        },
        "outputId": "305674bb-cd62-4e8f-bb09-2ee04d6135a5"
      },
      "outputs": [
        {
          "data": {
            "application/vnd.jupyter.widget-view+json": {
              "model_id": "64fe30177225471e9000aa281e84497e",
              "version_major": 2,
              "version_minor": 0
            },
            "text/plain": [
              "  0%|          | 0/10000 [00:00<?, ?it/s]"
            ]
          },
          "metadata": {},
          "output_type": "display_data"
        }
      ],
      "source": [
        "transform_to_tensor = transforms.Compose([\n",
        "    transforms.Resize(256),\n",
        "    transforms.ToTensor()\n",
        "])\n",
        "\n",
        "test = ImageDataset(save_path, transform=transform_to_tensor)"
      ]
    },
    {
      "cell_type": "code",
      "execution_count": null,
      "id": "d438d533",
      "metadata": {
        "execution": {
          "iopub.execute_input": "2023-06-18T21:31:35.605025Z",
          "iopub.status.busy": "2023-06-18T21:31:35.604182Z",
          "iopub.status.idle": "2023-06-18T21:31:35.609237Z",
          "shell.execute_reply": "2023-06-18T21:31:35.608345Z"
        },
        "id": "d438d533",
        "papermill": {
          "duration": 0.020813,
          "end_time": "2023-06-18T21:31:35.611194",
          "exception": false,
          "start_time": "2023-06-18T21:31:35.590381",
          "status": "completed"
        },
        "tags": []
      },
      "outputs": [],
      "source": [
        "test_loader = DataLoader(test, batch_size=128, shuffle=False, pin_memory=True)"
      ]
    },
    {
      "cell_type": "markdown",
      "id": "4d14e870",
      "metadata": {
        "papermill": {
          "duration": 0.013178,
          "end_time": "2023-06-18T21:31:35.637106",
          "exception": false,
          "start_time": "2023-06-18T21:31:35.623928",
          "status": "completed"
        },
        "tags": [],
        "id": "4d14e870"
      },
      "source": [
        "letters_mapping = {\n",
        "    'A': 0,\n",
        "    'B': 1,\n",
        "    'C': 2,\n",
        "    'D': 3,\n",
        "    'E': 4,\n",
        "    'F': 5,\n",
        "    'G': 6,\n",
        "    'H': 7,\n",
        "    'I': 8,\n",
        "    'J': 9,\n",
        "    'K': 10,\n",
        "    'L': 11,\n",
        "    'M': 12,\n",
        "    'N': 13,\n",
        "    'O': 14,\n",
        "    'P': 15,\n",
        "    'Q': 16,\n",
        "    'R': 17,\n",
        "    'S': 18,\n",
        "    'T': 19,\n",
        "    'U': 20,\n",
        "    'V': 21,\n",
        "    'W': 22,\n",
        "    'X': 23,\n",
        "    'Y': 24,\n",
        "    'Z': 25\n",
        "}"
      ]
    },
    {
      "cell_type": "code",
      "execution_count": null,
      "id": "9495c324",
      "metadata": {
        "execution": {
          "iopub.execute_input": "2023-06-18T21:31:35.664869Z",
          "iopub.status.busy": "2023-06-18T21:31:35.663930Z",
          "iopub.status.idle": "2023-06-18T21:32:37.011917Z",
          "shell.execute_reply": "2023-06-18T21:32:37.010837Z"
        },
        "id": "9495c324",
        "outputId": "12d15aa2-03ae-4cd9-e515-bd5e34f73a6e",
        "papermill": {
          "duration": 61.365177,
          "end_time": "2023-06-18T21:32:37.015487",
          "exception": false,
          "start_time": "2023-06-18T21:31:35.650310",
          "status": "completed"
        },
        "tags": [],
        "colab": {
          "referenced_widgets": [
            "a68a2823e1174b7587d62add7f6091fa"
          ]
        }
      },
      "outputs": [
        {
          "data": {
            "application/vnd.jupyter.widget-view+json": {
              "model_id": "a68a2823e1174b7587d62add7f6091fa",
              "version_major": 2,
              "version_minor": 0
            },
            "text/plain": [
              "  0%|          | 0/79 [00:00<?, ?it/s]"
            ]
          },
          "metadata": {},
          "output_type": "display_data"
        }
      ],
      "source": [
        "device = 'cpu'\n",
        "if torch.cuda.is_available():\n",
        "  device = torch.cuda.current_device()\n",
        "\n",
        "pred = []\n",
        "model.eval()\n",
        "for images in tqdm(test_loader):\n",
        "    images = images['image']\n",
        "    images = images.to(device)\n",
        "    logits = model(images)\n",
        "    pred.extend(torch.argmax(logits, dim = 1).tolist())"
      ]
    },
    {
      "cell_type": "code",
      "execution_count": null,
      "id": "e5ee7c6c",
      "metadata": {
        "execution": {
          "iopub.execute_input": "2023-06-18T21:32:37.041708Z",
          "iopub.status.busy": "2023-06-18T21:32:37.041412Z",
          "iopub.status.idle": "2023-06-18T21:32:37.064716Z",
          "shell.execute_reply": "2023-06-18T21:32:37.063901Z"
        },
        "id": "e5ee7c6c",
        "papermill": {
          "duration": 0.038579,
          "end_time": "2023-06-18T21:32:37.066734",
          "exception": false,
          "start_time": "2023-06-18T21:32:37.028155",
          "status": "completed"
        },
        "tags": []
      },
      "outputs": [],
      "source": [
        "letters =[list(letters_mapping.keys())[list(letters_mapping.values()).index(letter)] \\\n",
        "          for letter in pred]"
      ]
    },
    {
      "cell_type": "code",
      "execution_count": null,
      "id": "e0d6fac4",
      "metadata": {
        "execution": {
          "iopub.execute_input": "2023-06-18T21:32:37.092979Z",
          "iopub.status.busy": "2023-06-18T21:32:37.092710Z",
          "iopub.status.idle": "2023-06-18T21:32:37.103378Z",
          "shell.execute_reply": "2023-06-18T21:32:37.102594Z"
        },
        "id": "e0d6fac4",
        "papermill": {
          "duration": 0.025992,
          "end_time": "2023-06-18T21:32:37.105374",
          "exception": false,
          "start_time": "2023-06-18T21:32:37.079382",
          "status": "completed"
        },
        "tags": []
      },
      "outputs": [],
      "source": [
        "from collections import Counter\n",
        "result = pd.DataFrame.from_dict(Counter(letters), orient='index')\n",
        "result.to_csv('//kaggle/working/letters.csv', header=False)\n"
      ]
    }
  ],
  "metadata": {
    "kernelspec": {
      "display_name": "Python 3",
      "language": "python",
      "name": "python3"
    },
    "language_info": {
      "codemirror_mode": {
        "name": "ipython",
        "version": 3
      },
      "file_extension": ".py",
      "mimetype": "text/x-python",
      "name": "python",
      "nbconvert_exporter": "python",
      "pygments_lexer": "ipython3",
      "version": "3.10.10"
    },
    "papermill": {
      "default_parameters": {},
      "duration": 6345.103694,
      "end_time": "2023-06-18T21:32:40.527503",
      "environment_variables": {},
      "exception": null,
      "input_path": "__notebook__.ipynb",
      "output_path": "__notebook__.ipynb",
      "parameters": {},
      "start_time": "2023-06-18T19:46:55.423809",
      "version": "2.4.0"
    },
    "widgets": {
      "application/vnd.jupyter.widget-state+json": {}
    },
    "colab": {
      "provenance": [],
      "include_colab_link": true
    }
  },
  "nbformat": 4,
  "nbformat_minor": 5
}