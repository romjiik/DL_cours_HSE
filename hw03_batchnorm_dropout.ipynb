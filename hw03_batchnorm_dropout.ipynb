{
  "nbformat": 4,
  "nbformat_minor": 0,
  "metadata": {
    "hse_dl_year": "2021-fall",
    "colab": {
      "provenance": [],
      "include_colab_link": true
    },
    "language_info": {
      "name": "python"
    },
    "kernelspec": {
      "name": "python3",
      "display_name": "Python 3"
    },
    "accelerator": "GPU",
    "gpuClass": "standard",
    "widgets": {
      "application/vnd.jupyter.widget-state+json": {
        "5089c47b7a9b4991887b97ee227c46ef": {
          "model_module": "@jupyter-widgets/controls",
          "model_name": "HBoxModel",
          "model_module_version": "1.5.0",
          "state": {
            "_dom_classes": [],
            "_model_module": "@jupyter-widgets/controls",
            "_model_module_version": "1.5.0",
            "_model_name": "HBoxModel",
            "_view_count": null,
            "_view_module": "@jupyter-widgets/controls",
            "_view_module_version": "1.5.0",
            "_view_name": "HBoxView",
            "box_style": "",
            "children": [
              "IPY_MODEL_29f9d351a50b48bda654522b590d272c",
              "IPY_MODEL_d426d56305cd452e82dd136490896fd3",
              "IPY_MODEL_ed52b27dec0e499fb826223d8cbff466"
            ],
            "layout": "IPY_MODEL_4f24dd25024b4f5ab054fd24586428eb"
          }
        },
        "29f9d351a50b48bda654522b590d272c": {
          "model_module": "@jupyter-widgets/controls",
          "model_name": "HTMLModel",
          "model_module_version": "1.5.0",
          "state": {
            "_dom_classes": [],
            "_model_module": "@jupyter-widgets/controls",
            "_model_module_version": "1.5.0",
            "_model_name": "HTMLModel",
            "_view_count": null,
            "_view_module": "@jupyter-widgets/controls",
            "_view_module_version": "1.5.0",
            "_view_name": "HTMLView",
            "description": "",
            "description_tooltip": null,
            "layout": "IPY_MODEL_b78daab7e63e465da20933af380a268c",
            "placeholder": "​",
            "style": "IPY_MODEL_9f941caf6884421188b5867b446c056e",
            "value": "100%"
          }
        },
        "d426d56305cd452e82dd136490896fd3": {
          "model_module": "@jupyter-widgets/controls",
          "model_name": "FloatProgressModel",
          "model_module_version": "1.5.0",
          "state": {
            "_dom_classes": [],
            "_model_module": "@jupyter-widgets/controls",
            "_model_module_version": "1.5.0",
            "_model_name": "FloatProgressModel",
            "_view_count": null,
            "_view_module": "@jupyter-widgets/controls",
            "_view_module_version": "1.5.0",
            "_view_name": "ProgressView",
            "bar_style": "success",
            "description": "",
            "description_tooltip": null,
            "layout": "IPY_MODEL_cf7fea62c0b94b12a9badc6f43e568aa",
            "max": 9912422,
            "min": 0,
            "orientation": "horizontal",
            "style": "IPY_MODEL_b0dbfee291cf49cb948d25f6437a0b90",
            "value": 9912422
          }
        },
        "ed52b27dec0e499fb826223d8cbff466": {
          "model_module": "@jupyter-widgets/controls",
          "model_name": "HTMLModel",
          "model_module_version": "1.5.0",
          "state": {
            "_dom_classes": [],
            "_model_module": "@jupyter-widgets/controls",
            "_model_module_version": "1.5.0",
            "_model_name": "HTMLModel",
            "_view_count": null,
            "_view_module": "@jupyter-widgets/controls",
            "_view_module_version": "1.5.0",
            "_view_name": "HTMLView",
            "description": "",
            "description_tooltip": null,
            "layout": "IPY_MODEL_99e0cae3cf8d4e959e3df9714abe490c",
            "placeholder": "​",
            "style": "IPY_MODEL_28540b83e4264695a5e04ce983ad8517",
            "value": " 9912422/9912422 [00:00&lt;00:00, 139699575.43it/s]"
          }
        },
        "4f24dd25024b4f5ab054fd24586428eb": {
          "model_module": "@jupyter-widgets/base",
          "model_name": "LayoutModel",
          "model_module_version": "1.2.0",
          "state": {
            "_model_module": "@jupyter-widgets/base",
            "_model_module_version": "1.2.0",
            "_model_name": "LayoutModel",
            "_view_count": null,
            "_view_module": "@jupyter-widgets/base",
            "_view_module_version": "1.2.0",
            "_view_name": "LayoutView",
            "align_content": null,
            "align_items": null,
            "align_self": null,
            "border": null,
            "bottom": null,
            "display": null,
            "flex": null,
            "flex_flow": null,
            "grid_area": null,
            "grid_auto_columns": null,
            "grid_auto_flow": null,
            "grid_auto_rows": null,
            "grid_column": null,
            "grid_gap": null,
            "grid_row": null,
            "grid_template_areas": null,
            "grid_template_columns": null,
            "grid_template_rows": null,
            "height": null,
            "justify_content": null,
            "justify_items": null,
            "left": null,
            "margin": null,
            "max_height": null,
            "max_width": null,
            "min_height": null,
            "min_width": null,
            "object_fit": null,
            "object_position": null,
            "order": null,
            "overflow": null,
            "overflow_x": null,
            "overflow_y": null,
            "padding": null,
            "right": null,
            "top": null,
            "visibility": null,
            "width": null
          }
        },
        "b78daab7e63e465da20933af380a268c": {
          "model_module": "@jupyter-widgets/base",
          "model_name": "LayoutModel",
          "model_module_version": "1.2.0",
          "state": {
            "_model_module": "@jupyter-widgets/base",
            "_model_module_version": "1.2.0",
            "_model_name": "LayoutModel",
            "_view_count": null,
            "_view_module": "@jupyter-widgets/base",
            "_view_module_version": "1.2.0",
            "_view_name": "LayoutView",
            "align_content": null,
            "align_items": null,
            "align_self": null,
            "border": null,
            "bottom": null,
            "display": null,
            "flex": null,
            "flex_flow": null,
            "grid_area": null,
            "grid_auto_columns": null,
            "grid_auto_flow": null,
            "grid_auto_rows": null,
            "grid_column": null,
            "grid_gap": null,
            "grid_row": null,
            "grid_template_areas": null,
            "grid_template_columns": null,
            "grid_template_rows": null,
            "height": null,
            "justify_content": null,
            "justify_items": null,
            "left": null,
            "margin": null,
            "max_height": null,
            "max_width": null,
            "min_height": null,
            "min_width": null,
            "object_fit": null,
            "object_position": null,
            "order": null,
            "overflow": null,
            "overflow_x": null,
            "overflow_y": null,
            "padding": null,
            "right": null,
            "top": null,
            "visibility": null,
            "width": null
          }
        },
        "9f941caf6884421188b5867b446c056e": {
          "model_module": "@jupyter-widgets/controls",
          "model_name": "DescriptionStyleModel",
          "model_module_version": "1.5.0",
          "state": {
            "_model_module": "@jupyter-widgets/controls",
            "_model_module_version": "1.5.0",
            "_model_name": "DescriptionStyleModel",
            "_view_count": null,
            "_view_module": "@jupyter-widgets/base",
            "_view_module_version": "1.2.0",
            "_view_name": "StyleView",
            "description_width": ""
          }
        },
        "cf7fea62c0b94b12a9badc6f43e568aa": {
          "model_module": "@jupyter-widgets/base",
          "model_name": "LayoutModel",
          "model_module_version": "1.2.0",
          "state": {
            "_model_module": "@jupyter-widgets/base",
            "_model_module_version": "1.2.0",
            "_model_name": "LayoutModel",
            "_view_count": null,
            "_view_module": "@jupyter-widgets/base",
            "_view_module_version": "1.2.0",
            "_view_name": "LayoutView",
            "align_content": null,
            "align_items": null,
            "align_self": null,
            "border": null,
            "bottom": null,
            "display": null,
            "flex": null,
            "flex_flow": null,
            "grid_area": null,
            "grid_auto_columns": null,
            "grid_auto_flow": null,
            "grid_auto_rows": null,
            "grid_column": null,
            "grid_gap": null,
            "grid_row": null,
            "grid_template_areas": null,
            "grid_template_columns": null,
            "grid_template_rows": null,
            "height": null,
            "justify_content": null,
            "justify_items": null,
            "left": null,
            "margin": null,
            "max_height": null,
            "max_width": null,
            "min_height": null,
            "min_width": null,
            "object_fit": null,
            "object_position": null,
            "order": null,
            "overflow": null,
            "overflow_x": null,
            "overflow_y": null,
            "padding": null,
            "right": null,
            "top": null,
            "visibility": null,
            "width": null
          }
        },
        "b0dbfee291cf49cb948d25f6437a0b90": {
          "model_module": "@jupyter-widgets/controls",
          "model_name": "ProgressStyleModel",
          "model_module_version": "1.5.0",
          "state": {
            "_model_module": "@jupyter-widgets/controls",
            "_model_module_version": "1.5.0",
            "_model_name": "ProgressStyleModel",
            "_view_count": null,
            "_view_module": "@jupyter-widgets/base",
            "_view_module_version": "1.2.0",
            "_view_name": "StyleView",
            "bar_color": null,
            "description_width": ""
          }
        },
        "99e0cae3cf8d4e959e3df9714abe490c": {
          "model_module": "@jupyter-widgets/base",
          "model_name": "LayoutModel",
          "model_module_version": "1.2.0",
          "state": {
            "_model_module": "@jupyter-widgets/base",
            "_model_module_version": "1.2.0",
            "_model_name": "LayoutModel",
            "_view_count": null,
            "_view_module": "@jupyter-widgets/base",
            "_view_module_version": "1.2.0",
            "_view_name": "LayoutView",
            "align_content": null,
            "align_items": null,
            "align_self": null,
            "border": null,
            "bottom": null,
            "display": null,
            "flex": null,
            "flex_flow": null,
            "grid_area": null,
            "grid_auto_columns": null,
            "grid_auto_flow": null,
            "grid_auto_rows": null,
            "grid_column": null,
            "grid_gap": null,
            "grid_row": null,
            "grid_template_areas": null,
            "grid_template_columns": null,
            "grid_template_rows": null,
            "height": null,
            "justify_content": null,
            "justify_items": null,
            "left": null,
            "margin": null,
            "max_height": null,
            "max_width": null,
            "min_height": null,
            "min_width": null,
            "object_fit": null,
            "object_position": null,
            "order": null,
            "overflow": null,
            "overflow_x": null,
            "overflow_y": null,
            "padding": null,
            "right": null,
            "top": null,
            "visibility": null,
            "width": null
          }
        },
        "28540b83e4264695a5e04ce983ad8517": {
          "model_module": "@jupyter-widgets/controls",
          "model_name": "DescriptionStyleModel",
          "model_module_version": "1.5.0",
          "state": {
            "_model_module": "@jupyter-widgets/controls",
            "_model_module_version": "1.5.0",
            "_model_name": "DescriptionStyleModel",
            "_view_count": null,
            "_view_module": "@jupyter-widgets/base",
            "_view_module_version": "1.2.0",
            "_view_name": "StyleView",
            "description_width": ""
          }
        },
        "8223e41c92f2456caa302a75ca5c5d64": {
          "model_module": "@jupyter-widgets/controls",
          "model_name": "HBoxModel",
          "model_module_version": "1.5.0",
          "state": {
            "_dom_classes": [],
            "_model_module": "@jupyter-widgets/controls",
            "_model_module_version": "1.5.0",
            "_model_name": "HBoxModel",
            "_view_count": null,
            "_view_module": "@jupyter-widgets/controls",
            "_view_module_version": "1.5.0",
            "_view_name": "HBoxView",
            "box_style": "",
            "children": [
              "IPY_MODEL_8b5c624cc4894937baa6ab6d8a18d536",
              "IPY_MODEL_df29bdea808d40be9d0984b1d60657e9",
              "IPY_MODEL_d348243eae294c108c73bb93647a9946"
            ],
            "layout": "IPY_MODEL_5fe797fcc6f34346b1f266b3eee88510"
          }
        },
        "8b5c624cc4894937baa6ab6d8a18d536": {
          "model_module": "@jupyter-widgets/controls",
          "model_name": "HTMLModel",
          "model_module_version": "1.5.0",
          "state": {
            "_dom_classes": [],
            "_model_module": "@jupyter-widgets/controls",
            "_model_module_version": "1.5.0",
            "_model_name": "HTMLModel",
            "_view_count": null,
            "_view_module": "@jupyter-widgets/controls",
            "_view_module_version": "1.5.0",
            "_view_name": "HTMLView",
            "description": "",
            "description_tooltip": null,
            "layout": "IPY_MODEL_08db18447e234abc80a247c6c99100e4",
            "placeholder": "​",
            "style": "IPY_MODEL_9f6e44d0039c443686c3c5697cd8125b",
            "value": "100%"
          }
        },
        "df29bdea808d40be9d0984b1d60657e9": {
          "model_module": "@jupyter-widgets/controls",
          "model_name": "FloatProgressModel",
          "model_module_version": "1.5.0",
          "state": {
            "_dom_classes": [],
            "_model_module": "@jupyter-widgets/controls",
            "_model_module_version": "1.5.0",
            "_model_name": "FloatProgressModel",
            "_view_count": null,
            "_view_module": "@jupyter-widgets/controls",
            "_view_module_version": "1.5.0",
            "_view_name": "ProgressView",
            "bar_style": "success",
            "description": "",
            "description_tooltip": null,
            "layout": "IPY_MODEL_ea316cc168ac446ead1f25472053ec85",
            "max": 28881,
            "min": 0,
            "orientation": "horizontal",
            "style": "IPY_MODEL_cfe8f63316be494ca7ff73391f11de8c",
            "value": 28881
          }
        },
        "d348243eae294c108c73bb93647a9946": {
          "model_module": "@jupyter-widgets/controls",
          "model_name": "HTMLModel",
          "model_module_version": "1.5.0",
          "state": {
            "_dom_classes": [],
            "_model_module": "@jupyter-widgets/controls",
            "_model_module_version": "1.5.0",
            "_model_name": "HTMLModel",
            "_view_count": null,
            "_view_module": "@jupyter-widgets/controls",
            "_view_module_version": "1.5.0",
            "_view_name": "HTMLView",
            "description": "",
            "description_tooltip": null,
            "layout": "IPY_MODEL_5beb6cccadfe44e38ef40bd97795919e",
            "placeholder": "​",
            "style": "IPY_MODEL_182be724869e49fc9a48dd52832900e8",
            "value": " 28881/28881 [00:00&lt;00:00, 325092.64it/s]"
          }
        },
        "5fe797fcc6f34346b1f266b3eee88510": {
          "model_module": "@jupyter-widgets/base",
          "model_name": "LayoutModel",
          "model_module_version": "1.2.0",
          "state": {
            "_model_module": "@jupyter-widgets/base",
            "_model_module_version": "1.2.0",
            "_model_name": "LayoutModel",
            "_view_count": null,
            "_view_module": "@jupyter-widgets/base",
            "_view_module_version": "1.2.0",
            "_view_name": "LayoutView",
            "align_content": null,
            "align_items": null,
            "align_self": null,
            "border": null,
            "bottom": null,
            "display": null,
            "flex": null,
            "flex_flow": null,
            "grid_area": null,
            "grid_auto_columns": null,
            "grid_auto_flow": null,
            "grid_auto_rows": null,
            "grid_column": null,
            "grid_gap": null,
            "grid_row": null,
            "grid_template_areas": null,
            "grid_template_columns": null,
            "grid_template_rows": null,
            "height": null,
            "justify_content": null,
            "justify_items": null,
            "left": null,
            "margin": null,
            "max_height": null,
            "max_width": null,
            "min_height": null,
            "min_width": null,
            "object_fit": null,
            "object_position": null,
            "order": null,
            "overflow": null,
            "overflow_x": null,
            "overflow_y": null,
            "padding": null,
            "right": null,
            "top": null,
            "visibility": null,
            "width": null
          }
        },
        "08db18447e234abc80a247c6c99100e4": {
          "model_module": "@jupyter-widgets/base",
          "model_name": "LayoutModel",
          "model_module_version": "1.2.0",
          "state": {
            "_model_module": "@jupyter-widgets/base",
            "_model_module_version": "1.2.0",
            "_model_name": "LayoutModel",
            "_view_count": null,
            "_view_module": "@jupyter-widgets/base",
            "_view_module_version": "1.2.0",
            "_view_name": "LayoutView",
            "align_content": null,
            "align_items": null,
            "align_self": null,
            "border": null,
            "bottom": null,
            "display": null,
            "flex": null,
            "flex_flow": null,
            "grid_area": null,
            "grid_auto_columns": null,
            "grid_auto_flow": null,
            "grid_auto_rows": null,
            "grid_column": null,
            "grid_gap": null,
            "grid_row": null,
            "grid_template_areas": null,
            "grid_template_columns": null,
            "grid_template_rows": null,
            "height": null,
            "justify_content": null,
            "justify_items": null,
            "left": null,
            "margin": null,
            "max_height": null,
            "max_width": null,
            "min_height": null,
            "min_width": null,
            "object_fit": null,
            "object_position": null,
            "order": null,
            "overflow": null,
            "overflow_x": null,
            "overflow_y": null,
            "padding": null,
            "right": null,
            "top": null,
            "visibility": null,
            "width": null
          }
        },
        "9f6e44d0039c443686c3c5697cd8125b": {
          "model_module": "@jupyter-widgets/controls",
          "model_name": "DescriptionStyleModel",
          "model_module_version": "1.5.0",
          "state": {
            "_model_module": "@jupyter-widgets/controls",
            "_model_module_version": "1.5.0",
            "_model_name": "DescriptionStyleModel",
            "_view_count": null,
            "_view_module": "@jupyter-widgets/base",
            "_view_module_version": "1.2.0",
            "_view_name": "StyleView",
            "description_width": ""
          }
        },
        "ea316cc168ac446ead1f25472053ec85": {
          "model_module": "@jupyter-widgets/base",
          "model_name": "LayoutModel",
          "model_module_version": "1.2.0",
          "state": {
            "_model_module": "@jupyter-widgets/base",
            "_model_module_version": "1.2.0",
            "_model_name": "LayoutModel",
            "_view_count": null,
            "_view_module": "@jupyter-widgets/base",
            "_view_module_version": "1.2.0",
            "_view_name": "LayoutView",
            "align_content": null,
            "align_items": null,
            "align_self": null,
            "border": null,
            "bottom": null,
            "display": null,
            "flex": null,
            "flex_flow": null,
            "grid_area": null,
            "grid_auto_columns": null,
            "grid_auto_flow": null,
            "grid_auto_rows": null,
            "grid_column": null,
            "grid_gap": null,
            "grid_row": null,
            "grid_template_areas": null,
            "grid_template_columns": null,
            "grid_template_rows": null,
            "height": null,
            "justify_content": null,
            "justify_items": null,
            "left": null,
            "margin": null,
            "max_height": null,
            "max_width": null,
            "min_height": null,
            "min_width": null,
            "object_fit": null,
            "object_position": null,
            "order": null,
            "overflow": null,
            "overflow_x": null,
            "overflow_y": null,
            "padding": null,
            "right": null,
            "top": null,
            "visibility": null,
            "width": null
          }
        },
        "cfe8f63316be494ca7ff73391f11de8c": {
          "model_module": "@jupyter-widgets/controls",
          "model_name": "ProgressStyleModel",
          "model_module_version": "1.5.0",
          "state": {
            "_model_module": "@jupyter-widgets/controls",
            "_model_module_version": "1.5.0",
            "_model_name": "ProgressStyleModel",
            "_view_count": null,
            "_view_module": "@jupyter-widgets/base",
            "_view_module_version": "1.2.0",
            "_view_name": "StyleView",
            "bar_color": null,
            "description_width": ""
          }
        },
        "5beb6cccadfe44e38ef40bd97795919e": {
          "model_module": "@jupyter-widgets/base",
          "model_name": "LayoutModel",
          "model_module_version": "1.2.0",
          "state": {
            "_model_module": "@jupyter-widgets/base",
            "_model_module_version": "1.2.0",
            "_model_name": "LayoutModel",
            "_view_count": null,
            "_view_module": "@jupyter-widgets/base",
            "_view_module_version": "1.2.0",
            "_view_name": "LayoutView",
            "align_content": null,
            "align_items": null,
            "align_self": null,
            "border": null,
            "bottom": null,
            "display": null,
            "flex": null,
            "flex_flow": null,
            "grid_area": null,
            "grid_auto_columns": null,
            "grid_auto_flow": null,
            "grid_auto_rows": null,
            "grid_column": null,
            "grid_gap": null,
            "grid_row": null,
            "grid_template_areas": null,
            "grid_template_columns": null,
            "grid_template_rows": null,
            "height": null,
            "justify_content": null,
            "justify_items": null,
            "left": null,
            "margin": null,
            "max_height": null,
            "max_width": null,
            "min_height": null,
            "min_width": null,
            "object_fit": null,
            "object_position": null,
            "order": null,
            "overflow": null,
            "overflow_x": null,
            "overflow_y": null,
            "padding": null,
            "right": null,
            "top": null,
            "visibility": null,
            "width": null
          }
        },
        "182be724869e49fc9a48dd52832900e8": {
          "model_module": "@jupyter-widgets/controls",
          "model_name": "DescriptionStyleModel",
          "model_module_version": "1.5.0",
          "state": {
            "_model_module": "@jupyter-widgets/controls",
            "_model_module_version": "1.5.0",
            "_model_name": "DescriptionStyleModel",
            "_view_count": null,
            "_view_module": "@jupyter-widgets/base",
            "_view_module_version": "1.2.0",
            "_view_name": "StyleView",
            "description_width": ""
          }
        },
        "6da45f80bba143e181552b23f69ed2ce": {
          "model_module": "@jupyter-widgets/controls",
          "model_name": "HBoxModel",
          "model_module_version": "1.5.0",
          "state": {
            "_dom_classes": [],
            "_model_module": "@jupyter-widgets/controls",
            "_model_module_version": "1.5.0",
            "_model_name": "HBoxModel",
            "_view_count": null,
            "_view_module": "@jupyter-widgets/controls",
            "_view_module_version": "1.5.0",
            "_view_name": "HBoxView",
            "box_style": "",
            "children": [
              "IPY_MODEL_2092037fc8424a45905715a9e2da8576",
              "IPY_MODEL_244fd51636e0469b92f801731eda1561",
              "IPY_MODEL_304c184847ea4c778d85421132b52e37"
            ],
            "layout": "IPY_MODEL_0109e8732b5c485faa9e00b6f9b02518"
          }
        },
        "2092037fc8424a45905715a9e2da8576": {
          "model_module": "@jupyter-widgets/controls",
          "model_name": "HTMLModel",
          "model_module_version": "1.5.0",
          "state": {
            "_dom_classes": [],
            "_model_module": "@jupyter-widgets/controls",
            "_model_module_version": "1.5.0",
            "_model_name": "HTMLModel",
            "_view_count": null,
            "_view_module": "@jupyter-widgets/controls",
            "_view_module_version": "1.5.0",
            "_view_name": "HTMLView",
            "description": "",
            "description_tooltip": null,
            "layout": "IPY_MODEL_d2b7d738464f4bb696b66d3ecae8ac60",
            "placeholder": "​",
            "style": "IPY_MODEL_cbc72654c5d044c595d60262d3499cec",
            "value": "100%"
          }
        },
        "244fd51636e0469b92f801731eda1561": {
          "model_module": "@jupyter-widgets/controls",
          "model_name": "FloatProgressModel",
          "model_module_version": "1.5.0",
          "state": {
            "_dom_classes": [],
            "_model_module": "@jupyter-widgets/controls",
            "_model_module_version": "1.5.0",
            "_model_name": "FloatProgressModel",
            "_view_count": null,
            "_view_module": "@jupyter-widgets/controls",
            "_view_module_version": "1.5.0",
            "_view_name": "ProgressView",
            "bar_style": "success",
            "description": "",
            "description_tooltip": null,
            "layout": "IPY_MODEL_173059a605534fdf881c2aedb0cb4a76",
            "max": 1648877,
            "min": 0,
            "orientation": "horizontal",
            "style": "IPY_MODEL_ea06508dcd7d48038d35e664300561b6",
            "value": 1648877
          }
        },
        "304c184847ea4c778d85421132b52e37": {
          "model_module": "@jupyter-widgets/controls",
          "model_name": "HTMLModel",
          "model_module_version": "1.5.0",
          "state": {
            "_dom_classes": [],
            "_model_module": "@jupyter-widgets/controls",
            "_model_module_version": "1.5.0",
            "_model_name": "HTMLModel",
            "_view_count": null,
            "_view_module": "@jupyter-widgets/controls",
            "_view_module_version": "1.5.0",
            "_view_name": "HTMLView",
            "description": "",
            "description_tooltip": null,
            "layout": "IPY_MODEL_a219d2988d4744398886d4e28d4d1f63",
            "placeholder": "​",
            "style": "IPY_MODEL_67e724ecfd934e2e90a40cee0b8b1782",
            "value": " 1648877/1648877 [00:00&lt;00:00, 326334.30it/s]"
          }
        },
        "0109e8732b5c485faa9e00b6f9b02518": {
          "model_module": "@jupyter-widgets/base",
          "model_name": "LayoutModel",
          "model_module_version": "1.2.0",
          "state": {
            "_model_module": "@jupyter-widgets/base",
            "_model_module_version": "1.2.0",
            "_model_name": "LayoutModel",
            "_view_count": null,
            "_view_module": "@jupyter-widgets/base",
            "_view_module_version": "1.2.0",
            "_view_name": "LayoutView",
            "align_content": null,
            "align_items": null,
            "align_self": null,
            "border": null,
            "bottom": null,
            "display": null,
            "flex": null,
            "flex_flow": null,
            "grid_area": null,
            "grid_auto_columns": null,
            "grid_auto_flow": null,
            "grid_auto_rows": null,
            "grid_column": null,
            "grid_gap": null,
            "grid_row": null,
            "grid_template_areas": null,
            "grid_template_columns": null,
            "grid_template_rows": null,
            "height": null,
            "justify_content": null,
            "justify_items": null,
            "left": null,
            "margin": null,
            "max_height": null,
            "max_width": null,
            "min_height": null,
            "min_width": null,
            "object_fit": null,
            "object_position": null,
            "order": null,
            "overflow": null,
            "overflow_x": null,
            "overflow_y": null,
            "padding": null,
            "right": null,
            "top": null,
            "visibility": null,
            "width": null
          }
        },
        "d2b7d738464f4bb696b66d3ecae8ac60": {
          "model_module": "@jupyter-widgets/base",
          "model_name": "LayoutModel",
          "model_module_version": "1.2.0",
          "state": {
            "_model_module": "@jupyter-widgets/base",
            "_model_module_version": "1.2.0",
            "_model_name": "LayoutModel",
            "_view_count": null,
            "_view_module": "@jupyter-widgets/base",
            "_view_module_version": "1.2.0",
            "_view_name": "LayoutView",
            "align_content": null,
            "align_items": null,
            "align_self": null,
            "border": null,
            "bottom": null,
            "display": null,
            "flex": null,
            "flex_flow": null,
            "grid_area": null,
            "grid_auto_columns": null,
            "grid_auto_flow": null,
            "grid_auto_rows": null,
            "grid_column": null,
            "grid_gap": null,
            "grid_row": null,
            "grid_template_areas": null,
            "grid_template_columns": null,
            "grid_template_rows": null,
            "height": null,
            "justify_content": null,
            "justify_items": null,
            "left": null,
            "margin": null,
            "max_height": null,
            "max_width": null,
            "min_height": null,
            "min_width": null,
            "object_fit": null,
            "object_position": null,
            "order": null,
            "overflow": null,
            "overflow_x": null,
            "overflow_y": null,
            "padding": null,
            "right": null,
            "top": null,
            "visibility": null,
            "width": null
          }
        },
        "cbc72654c5d044c595d60262d3499cec": {
          "model_module": "@jupyter-widgets/controls",
          "model_name": "DescriptionStyleModel",
          "model_module_version": "1.5.0",
          "state": {
            "_model_module": "@jupyter-widgets/controls",
            "_model_module_version": "1.5.0",
            "_model_name": "DescriptionStyleModel",
            "_view_count": null,
            "_view_module": "@jupyter-widgets/base",
            "_view_module_version": "1.2.0",
            "_view_name": "StyleView",
            "description_width": ""
          }
        },
        "173059a605534fdf881c2aedb0cb4a76": {
          "model_module": "@jupyter-widgets/base",
          "model_name": "LayoutModel",
          "model_module_version": "1.2.0",
          "state": {
            "_model_module": "@jupyter-widgets/base",
            "_model_module_version": "1.2.0",
            "_model_name": "LayoutModel",
            "_view_count": null,
            "_view_module": "@jupyter-widgets/base",
            "_view_module_version": "1.2.0",
            "_view_name": "LayoutView",
            "align_content": null,
            "align_items": null,
            "align_self": null,
            "border": null,
            "bottom": null,
            "display": null,
            "flex": null,
            "flex_flow": null,
            "grid_area": null,
            "grid_auto_columns": null,
            "grid_auto_flow": null,
            "grid_auto_rows": null,
            "grid_column": null,
            "grid_gap": null,
            "grid_row": null,
            "grid_template_areas": null,
            "grid_template_columns": null,
            "grid_template_rows": null,
            "height": null,
            "justify_content": null,
            "justify_items": null,
            "left": null,
            "margin": null,
            "max_height": null,
            "max_width": null,
            "min_height": null,
            "min_width": null,
            "object_fit": null,
            "object_position": null,
            "order": null,
            "overflow": null,
            "overflow_x": null,
            "overflow_y": null,
            "padding": null,
            "right": null,
            "top": null,
            "visibility": null,
            "width": null
          }
        },
        "ea06508dcd7d48038d35e664300561b6": {
          "model_module": "@jupyter-widgets/controls",
          "model_name": "ProgressStyleModel",
          "model_module_version": "1.5.0",
          "state": {
            "_model_module": "@jupyter-widgets/controls",
            "_model_module_version": "1.5.0",
            "_model_name": "ProgressStyleModel",
            "_view_count": null,
            "_view_module": "@jupyter-widgets/base",
            "_view_module_version": "1.2.0",
            "_view_name": "StyleView",
            "bar_color": null,
            "description_width": ""
          }
        },
        "a219d2988d4744398886d4e28d4d1f63": {
          "model_module": "@jupyter-widgets/base",
          "model_name": "LayoutModel",
          "model_module_version": "1.2.0",
          "state": {
            "_model_module": "@jupyter-widgets/base",
            "_model_module_version": "1.2.0",
            "_model_name": "LayoutModel",
            "_view_count": null,
            "_view_module": "@jupyter-widgets/base",
            "_view_module_version": "1.2.0",
            "_view_name": "LayoutView",
            "align_content": null,
            "align_items": null,
            "align_self": null,
            "border": null,
            "bottom": null,
            "display": null,
            "flex": null,
            "flex_flow": null,
            "grid_area": null,
            "grid_auto_columns": null,
            "grid_auto_flow": null,
            "grid_auto_rows": null,
            "grid_column": null,
            "grid_gap": null,
            "grid_row": null,
            "grid_template_areas": null,
            "grid_template_columns": null,
            "grid_template_rows": null,
            "height": null,
            "justify_content": null,
            "justify_items": null,
            "left": null,
            "margin": null,
            "max_height": null,
            "max_width": null,
            "min_height": null,
            "min_width": null,
            "object_fit": null,
            "object_position": null,
            "order": null,
            "overflow": null,
            "overflow_x": null,
            "overflow_y": null,
            "padding": null,
            "right": null,
            "top": null,
            "visibility": null,
            "width": null
          }
        },
        "67e724ecfd934e2e90a40cee0b8b1782": {
          "model_module": "@jupyter-widgets/controls",
          "model_name": "DescriptionStyleModel",
          "model_module_version": "1.5.0",
          "state": {
            "_model_module": "@jupyter-widgets/controls",
            "_model_module_version": "1.5.0",
            "_model_name": "DescriptionStyleModel",
            "_view_count": null,
            "_view_module": "@jupyter-widgets/base",
            "_view_module_version": "1.2.0",
            "_view_name": "StyleView",
            "description_width": ""
          }
        },
        "8d2e56ce0e3f432bb85e5dfb63df4afc": {
          "model_module": "@jupyter-widgets/controls",
          "model_name": "HBoxModel",
          "model_module_version": "1.5.0",
          "state": {
            "_dom_classes": [],
            "_model_module": "@jupyter-widgets/controls",
            "_model_module_version": "1.5.0",
            "_model_name": "HBoxModel",
            "_view_count": null,
            "_view_module": "@jupyter-widgets/controls",
            "_view_module_version": "1.5.0",
            "_view_name": "HBoxView",
            "box_style": "",
            "children": [
              "IPY_MODEL_1effea0f1d364069b99f00dad99adfcb",
              "IPY_MODEL_2d1cede5eaf4404fae6d113ecf33a67e",
              "IPY_MODEL_c7864125a0b047588b6a248bcc05b404"
            ],
            "layout": "IPY_MODEL_656b6f38064f4e7896a60fca414d537a"
          }
        },
        "1effea0f1d364069b99f00dad99adfcb": {
          "model_module": "@jupyter-widgets/controls",
          "model_name": "HTMLModel",
          "model_module_version": "1.5.0",
          "state": {
            "_dom_classes": [],
            "_model_module": "@jupyter-widgets/controls",
            "_model_module_version": "1.5.0",
            "_model_name": "HTMLModel",
            "_view_count": null,
            "_view_module": "@jupyter-widgets/controls",
            "_view_module_version": "1.5.0",
            "_view_name": "HTMLView",
            "description": "",
            "description_tooltip": null,
            "layout": "IPY_MODEL_ec869d25befa49ab84398d684338d39d",
            "placeholder": "​",
            "style": "IPY_MODEL_38f14dd55f344654a30831aff5625214",
            "value": "100%"
          }
        },
        "2d1cede5eaf4404fae6d113ecf33a67e": {
          "model_module": "@jupyter-widgets/controls",
          "model_name": "FloatProgressModel",
          "model_module_version": "1.5.0",
          "state": {
            "_dom_classes": [],
            "_model_module": "@jupyter-widgets/controls",
            "_model_module_version": "1.5.0",
            "_model_name": "FloatProgressModel",
            "_view_count": null,
            "_view_module": "@jupyter-widgets/controls",
            "_view_module_version": "1.5.0",
            "_view_name": "ProgressView",
            "bar_style": "success",
            "description": "",
            "description_tooltip": null,
            "layout": "IPY_MODEL_b5e75bf4ed604ee7bf80361f78836bdf",
            "max": 4542,
            "min": 0,
            "orientation": "horizontal",
            "style": "IPY_MODEL_a25da02ff4174d1caf4cbdf41e3bd1e3",
            "value": 4542
          }
        },
        "c7864125a0b047588b6a248bcc05b404": {
          "model_module": "@jupyter-widgets/controls",
          "model_name": "HTMLModel",
          "model_module_version": "1.5.0",
          "state": {
            "_dom_classes": [],
            "_model_module": "@jupyter-widgets/controls",
            "_model_module_version": "1.5.0",
            "_model_name": "HTMLModel",
            "_view_count": null,
            "_view_module": "@jupyter-widgets/controls",
            "_view_module_version": "1.5.0",
            "_view_name": "HTMLView",
            "description": "",
            "description_tooltip": null,
            "layout": "IPY_MODEL_8a760be74f5a412b87d75cbd325e295d",
            "placeholder": "​",
            "style": "IPY_MODEL_5b828918d191434c8dfcf325e18c50bd",
            "value": " 4542/4542 [00:00&lt;00:00, 75466.47it/s]"
          }
        },
        "656b6f38064f4e7896a60fca414d537a": {
          "model_module": "@jupyter-widgets/base",
          "model_name": "LayoutModel",
          "model_module_version": "1.2.0",
          "state": {
            "_model_module": "@jupyter-widgets/base",
            "_model_module_version": "1.2.0",
            "_model_name": "LayoutModel",
            "_view_count": null,
            "_view_module": "@jupyter-widgets/base",
            "_view_module_version": "1.2.0",
            "_view_name": "LayoutView",
            "align_content": null,
            "align_items": null,
            "align_self": null,
            "border": null,
            "bottom": null,
            "display": null,
            "flex": null,
            "flex_flow": null,
            "grid_area": null,
            "grid_auto_columns": null,
            "grid_auto_flow": null,
            "grid_auto_rows": null,
            "grid_column": null,
            "grid_gap": null,
            "grid_row": null,
            "grid_template_areas": null,
            "grid_template_columns": null,
            "grid_template_rows": null,
            "height": null,
            "justify_content": null,
            "justify_items": null,
            "left": null,
            "margin": null,
            "max_height": null,
            "max_width": null,
            "min_height": null,
            "min_width": null,
            "object_fit": null,
            "object_position": null,
            "order": null,
            "overflow": null,
            "overflow_x": null,
            "overflow_y": null,
            "padding": null,
            "right": null,
            "top": null,
            "visibility": null,
            "width": null
          }
        },
        "ec869d25befa49ab84398d684338d39d": {
          "model_module": "@jupyter-widgets/base",
          "model_name": "LayoutModel",
          "model_module_version": "1.2.0",
          "state": {
            "_model_module": "@jupyter-widgets/base",
            "_model_module_version": "1.2.0",
            "_model_name": "LayoutModel",
            "_view_count": null,
            "_view_module": "@jupyter-widgets/base",
            "_view_module_version": "1.2.0",
            "_view_name": "LayoutView",
            "align_content": null,
            "align_items": null,
            "align_self": null,
            "border": null,
            "bottom": null,
            "display": null,
            "flex": null,
            "flex_flow": null,
            "grid_area": null,
            "grid_auto_columns": null,
            "grid_auto_flow": null,
            "grid_auto_rows": null,
            "grid_column": null,
            "grid_gap": null,
            "grid_row": null,
            "grid_template_areas": null,
            "grid_template_columns": null,
            "grid_template_rows": null,
            "height": null,
            "justify_content": null,
            "justify_items": null,
            "left": null,
            "margin": null,
            "max_height": null,
            "max_width": null,
            "min_height": null,
            "min_width": null,
            "object_fit": null,
            "object_position": null,
            "order": null,
            "overflow": null,
            "overflow_x": null,
            "overflow_y": null,
            "padding": null,
            "right": null,
            "top": null,
            "visibility": null,
            "width": null
          }
        },
        "38f14dd55f344654a30831aff5625214": {
          "model_module": "@jupyter-widgets/controls",
          "model_name": "DescriptionStyleModel",
          "model_module_version": "1.5.0",
          "state": {
            "_model_module": "@jupyter-widgets/controls",
            "_model_module_version": "1.5.0",
            "_model_name": "DescriptionStyleModel",
            "_view_count": null,
            "_view_module": "@jupyter-widgets/base",
            "_view_module_version": "1.2.0",
            "_view_name": "StyleView",
            "description_width": ""
          }
        },
        "b5e75bf4ed604ee7bf80361f78836bdf": {
          "model_module": "@jupyter-widgets/base",
          "model_name": "LayoutModel",
          "model_module_version": "1.2.0",
          "state": {
            "_model_module": "@jupyter-widgets/base",
            "_model_module_version": "1.2.0",
            "_model_name": "LayoutModel",
            "_view_count": null,
            "_view_module": "@jupyter-widgets/base",
            "_view_module_version": "1.2.0",
            "_view_name": "LayoutView",
            "align_content": null,
            "align_items": null,
            "align_self": null,
            "border": null,
            "bottom": null,
            "display": null,
            "flex": null,
            "flex_flow": null,
            "grid_area": null,
            "grid_auto_columns": null,
            "grid_auto_flow": null,
            "grid_auto_rows": null,
            "grid_column": null,
            "grid_gap": null,
            "grid_row": null,
            "grid_template_areas": null,
            "grid_template_columns": null,
            "grid_template_rows": null,
            "height": null,
            "justify_content": null,
            "justify_items": null,
            "left": null,
            "margin": null,
            "max_height": null,
            "max_width": null,
            "min_height": null,
            "min_width": null,
            "object_fit": null,
            "object_position": null,
            "order": null,
            "overflow": null,
            "overflow_x": null,
            "overflow_y": null,
            "padding": null,
            "right": null,
            "top": null,
            "visibility": null,
            "width": null
          }
        },
        "a25da02ff4174d1caf4cbdf41e3bd1e3": {
          "model_module": "@jupyter-widgets/controls",
          "model_name": "ProgressStyleModel",
          "model_module_version": "1.5.0",
          "state": {
            "_model_module": "@jupyter-widgets/controls",
            "_model_module_version": "1.5.0",
            "_model_name": "ProgressStyleModel",
            "_view_count": null,
            "_view_module": "@jupyter-widgets/base",
            "_view_module_version": "1.2.0",
            "_view_name": "StyleView",
            "bar_color": null,
            "description_width": ""
          }
        },
        "8a760be74f5a412b87d75cbd325e295d": {
          "model_module": "@jupyter-widgets/base",
          "model_name": "LayoutModel",
          "model_module_version": "1.2.0",
          "state": {
            "_model_module": "@jupyter-widgets/base",
            "_model_module_version": "1.2.0",
            "_model_name": "LayoutModel",
            "_view_count": null,
            "_view_module": "@jupyter-widgets/base",
            "_view_module_version": "1.2.0",
            "_view_name": "LayoutView",
            "align_content": null,
            "align_items": null,
            "align_self": null,
            "border": null,
            "bottom": null,
            "display": null,
            "flex": null,
            "flex_flow": null,
            "grid_area": null,
            "grid_auto_columns": null,
            "grid_auto_flow": null,
            "grid_auto_rows": null,
            "grid_column": null,
            "grid_gap": null,
            "grid_row": null,
            "grid_template_areas": null,
            "grid_template_columns": null,
            "grid_template_rows": null,
            "height": null,
            "justify_content": null,
            "justify_items": null,
            "left": null,
            "margin": null,
            "max_height": null,
            "max_width": null,
            "min_height": null,
            "min_width": null,
            "object_fit": null,
            "object_position": null,
            "order": null,
            "overflow": null,
            "overflow_x": null,
            "overflow_y": null,
            "padding": null,
            "right": null,
            "top": null,
            "visibility": null,
            "width": null
          }
        },
        "5b828918d191434c8dfcf325e18c50bd": {
          "model_module": "@jupyter-widgets/controls",
          "model_name": "DescriptionStyleModel",
          "model_module_version": "1.5.0",
          "state": {
            "_model_module": "@jupyter-widgets/controls",
            "_model_module_version": "1.5.0",
            "_model_name": "DescriptionStyleModel",
            "_view_count": null,
            "_view_module": "@jupyter-widgets/base",
            "_view_module_version": "1.2.0",
            "_view_name": "StyleView",
            "description_width": ""
          }
        },
        "598220aa81bd4f3e9a27e3fbbe7f6435": {
          "model_module": "@jupyter-widgets/controls",
          "model_name": "HBoxModel",
          "model_module_version": "1.5.0",
          "state": {
            "_dom_classes": [],
            "_model_module": "@jupyter-widgets/controls",
            "_model_module_version": "1.5.0",
            "_model_name": "HBoxModel",
            "_view_count": null,
            "_view_module": "@jupyter-widgets/controls",
            "_view_module_version": "1.5.0",
            "_view_name": "HBoxView",
            "box_style": "",
            "children": [
              "IPY_MODEL_e6b3415bc4f44ed9b1c22941c2f6be8a",
              "IPY_MODEL_3873a03c31f741a0829f58d7f6e5312c",
              "IPY_MODEL_50d462cc636941a881b3db0ded6df6d7"
            ],
            "layout": "IPY_MODEL_a2c7c8fa88a54de68311a449e6669004"
          }
        },
        "e6b3415bc4f44ed9b1c22941c2f6be8a": {
          "model_module": "@jupyter-widgets/controls",
          "model_name": "HTMLModel",
          "model_module_version": "1.5.0",
          "state": {
            "_dom_classes": [],
            "_model_module": "@jupyter-widgets/controls",
            "_model_module_version": "1.5.0",
            "_model_name": "HTMLModel",
            "_view_count": null,
            "_view_module": "@jupyter-widgets/controls",
            "_view_module_version": "1.5.0",
            "_view_name": "HTMLView",
            "description": "",
            "description_tooltip": null,
            "layout": "IPY_MODEL_f9413096baa040268758a8797444b74a",
            "placeholder": "​",
            "style": "IPY_MODEL_ec9894335e75406d80cda08066384977",
            "value": "100%"
          }
        },
        "3873a03c31f741a0829f58d7f6e5312c": {
          "model_module": "@jupyter-widgets/controls",
          "model_name": "FloatProgressModel",
          "model_module_version": "1.5.0",
          "state": {
            "_dom_classes": [],
            "_model_module": "@jupyter-widgets/controls",
            "_model_module_version": "1.5.0",
            "_model_name": "FloatProgressModel",
            "_view_count": null,
            "_view_module": "@jupyter-widgets/controls",
            "_view_module_version": "1.5.0",
            "_view_name": "ProgressView",
            "bar_style": "success",
            "description": "",
            "description_tooltip": null,
            "layout": "IPY_MODEL_e5a2a053554c4d27b4b5134e37d53976",
            "max": 100,
            "min": 0,
            "orientation": "horizontal",
            "style": "IPY_MODEL_cd97c4950a3b42f2b31c65958f205669",
            "value": 100
          }
        },
        "50d462cc636941a881b3db0ded6df6d7": {
          "model_module": "@jupyter-widgets/controls",
          "model_name": "HTMLModel",
          "model_module_version": "1.5.0",
          "state": {
            "_dom_classes": [],
            "_model_module": "@jupyter-widgets/controls",
            "_model_module_version": "1.5.0",
            "_model_name": "HTMLModel",
            "_view_count": null,
            "_view_module": "@jupyter-widgets/controls",
            "_view_module_version": "1.5.0",
            "_view_name": "HTMLView",
            "description": "",
            "description_tooltip": null,
            "layout": "IPY_MODEL_ca82d5cead564374879bf798062442c3",
            "placeholder": "​",
            "style": "IPY_MODEL_f0eb3563eab848adb7457857fa46113e",
            "value": " 100/100 [00:00&lt;00:00, 455.71it/s]"
          }
        },
        "a2c7c8fa88a54de68311a449e6669004": {
          "model_module": "@jupyter-widgets/base",
          "model_name": "LayoutModel",
          "model_module_version": "1.2.0",
          "state": {
            "_model_module": "@jupyter-widgets/base",
            "_model_module_version": "1.2.0",
            "_model_name": "LayoutModel",
            "_view_count": null,
            "_view_module": "@jupyter-widgets/base",
            "_view_module_version": "1.2.0",
            "_view_name": "LayoutView",
            "align_content": null,
            "align_items": null,
            "align_self": null,
            "border": null,
            "bottom": null,
            "display": null,
            "flex": null,
            "flex_flow": null,
            "grid_area": null,
            "grid_auto_columns": null,
            "grid_auto_flow": null,
            "grid_auto_rows": null,
            "grid_column": null,
            "grid_gap": null,
            "grid_row": null,
            "grid_template_areas": null,
            "grid_template_columns": null,
            "grid_template_rows": null,
            "height": null,
            "justify_content": null,
            "justify_items": null,
            "left": null,
            "margin": null,
            "max_height": null,
            "max_width": null,
            "min_height": null,
            "min_width": null,
            "object_fit": null,
            "object_position": null,
            "order": null,
            "overflow": null,
            "overflow_x": null,
            "overflow_y": null,
            "padding": null,
            "right": null,
            "top": null,
            "visibility": null,
            "width": null
          }
        },
        "f9413096baa040268758a8797444b74a": {
          "model_module": "@jupyter-widgets/base",
          "model_name": "LayoutModel",
          "model_module_version": "1.2.0",
          "state": {
            "_model_module": "@jupyter-widgets/base",
            "_model_module_version": "1.2.0",
            "_model_name": "LayoutModel",
            "_view_count": null,
            "_view_module": "@jupyter-widgets/base",
            "_view_module_version": "1.2.0",
            "_view_name": "LayoutView",
            "align_content": null,
            "align_items": null,
            "align_self": null,
            "border": null,
            "bottom": null,
            "display": null,
            "flex": null,
            "flex_flow": null,
            "grid_area": null,
            "grid_auto_columns": null,
            "grid_auto_flow": null,
            "grid_auto_rows": null,
            "grid_column": null,
            "grid_gap": null,
            "grid_row": null,
            "grid_template_areas": null,
            "grid_template_columns": null,
            "grid_template_rows": null,
            "height": null,
            "justify_content": null,
            "justify_items": null,
            "left": null,
            "margin": null,
            "max_height": null,
            "max_width": null,
            "min_height": null,
            "min_width": null,
            "object_fit": null,
            "object_position": null,
            "order": null,
            "overflow": null,
            "overflow_x": null,
            "overflow_y": null,
            "padding": null,
            "right": null,
            "top": null,
            "visibility": null,
            "width": null
          }
        },
        "ec9894335e75406d80cda08066384977": {
          "model_module": "@jupyter-widgets/controls",
          "model_name": "DescriptionStyleModel",
          "model_module_version": "1.5.0",
          "state": {
            "_model_module": "@jupyter-widgets/controls",
            "_model_module_version": "1.5.0",
            "_model_name": "DescriptionStyleModel",
            "_view_count": null,
            "_view_module": "@jupyter-widgets/base",
            "_view_module_version": "1.2.0",
            "_view_name": "StyleView",
            "description_width": ""
          }
        },
        "e5a2a053554c4d27b4b5134e37d53976": {
          "model_module": "@jupyter-widgets/base",
          "model_name": "LayoutModel",
          "model_module_version": "1.2.0",
          "state": {
            "_model_module": "@jupyter-widgets/base",
            "_model_module_version": "1.2.0",
            "_model_name": "LayoutModel",
            "_view_count": null,
            "_view_module": "@jupyter-widgets/base",
            "_view_module_version": "1.2.0",
            "_view_name": "LayoutView",
            "align_content": null,
            "align_items": null,
            "align_self": null,
            "border": null,
            "bottom": null,
            "display": null,
            "flex": null,
            "flex_flow": null,
            "grid_area": null,
            "grid_auto_columns": null,
            "grid_auto_flow": null,
            "grid_auto_rows": null,
            "grid_column": null,
            "grid_gap": null,
            "grid_row": null,
            "grid_template_areas": null,
            "grid_template_columns": null,
            "grid_template_rows": null,
            "height": null,
            "justify_content": null,
            "justify_items": null,
            "left": null,
            "margin": null,
            "max_height": null,
            "max_width": null,
            "min_height": null,
            "min_width": null,
            "object_fit": null,
            "object_position": null,
            "order": null,
            "overflow": null,
            "overflow_x": null,
            "overflow_y": null,
            "padding": null,
            "right": null,
            "top": null,
            "visibility": null,
            "width": null
          }
        },
        "cd97c4950a3b42f2b31c65958f205669": {
          "model_module": "@jupyter-widgets/controls",
          "model_name": "ProgressStyleModel",
          "model_module_version": "1.5.0",
          "state": {
            "_model_module": "@jupyter-widgets/controls",
            "_model_module_version": "1.5.0",
            "_model_name": "ProgressStyleModel",
            "_view_count": null,
            "_view_module": "@jupyter-widgets/base",
            "_view_module_version": "1.2.0",
            "_view_name": "StyleView",
            "bar_color": null,
            "description_width": ""
          }
        },
        "ca82d5cead564374879bf798062442c3": {
          "model_module": "@jupyter-widgets/base",
          "model_name": "LayoutModel",
          "model_module_version": "1.2.0",
          "state": {
            "_model_module": "@jupyter-widgets/base",
            "_model_module_version": "1.2.0",
            "_model_name": "LayoutModel",
            "_view_count": null,
            "_view_module": "@jupyter-widgets/base",
            "_view_module_version": "1.2.0",
            "_view_name": "LayoutView",
            "align_content": null,
            "align_items": null,
            "align_self": null,
            "border": null,
            "bottom": null,
            "display": null,
            "flex": null,
            "flex_flow": null,
            "grid_area": null,
            "grid_auto_columns": null,
            "grid_auto_flow": null,
            "grid_auto_rows": null,
            "grid_column": null,
            "grid_gap": null,
            "grid_row": null,
            "grid_template_areas": null,
            "grid_template_columns": null,
            "grid_template_rows": null,
            "height": null,
            "justify_content": null,
            "justify_items": null,
            "left": null,
            "margin": null,
            "max_height": null,
            "max_width": null,
            "min_height": null,
            "min_width": null,
            "object_fit": null,
            "object_position": null,
            "order": null,
            "overflow": null,
            "overflow_x": null,
            "overflow_y": null,
            "padding": null,
            "right": null,
            "top": null,
            "visibility": null,
            "width": null
          }
        },
        "f0eb3563eab848adb7457857fa46113e": {
          "model_module": "@jupyter-widgets/controls",
          "model_name": "DescriptionStyleModel",
          "model_module_version": "1.5.0",
          "state": {
            "_model_module": "@jupyter-widgets/controls",
            "_model_module_version": "1.5.0",
            "_model_name": "DescriptionStyleModel",
            "_view_count": null,
            "_view_module": "@jupyter-widgets/base",
            "_view_module_version": "1.2.0",
            "_view_name": "StyleView",
            "description_width": ""
          }
        },
        "695c0f2817584d0d9ebd7baf3ad92b33": {
          "model_module": "@jupyter-widgets/controls",
          "model_name": "HBoxModel",
          "model_module_version": "1.5.0",
          "state": {
            "_dom_classes": [],
            "_model_module": "@jupyter-widgets/controls",
            "_model_module_version": "1.5.0",
            "_model_name": "HBoxModel",
            "_view_count": null,
            "_view_module": "@jupyter-widgets/controls",
            "_view_module_version": "1.5.0",
            "_view_name": "HBoxView",
            "box_style": "",
            "children": [
              "IPY_MODEL_76689768fda7486db8c1b329a9cc6a24",
              "IPY_MODEL_97e7ea7f2b1a449888725de5d66b9df5",
              "IPY_MODEL_db947227b9d84deea22cb5dd25b62532"
            ],
            "layout": "IPY_MODEL_6517951200d64424aed9c2f63ae0231a"
          }
        },
        "76689768fda7486db8c1b329a9cc6a24": {
          "model_module": "@jupyter-widgets/controls",
          "model_name": "HTMLModel",
          "model_module_version": "1.5.0",
          "state": {
            "_dom_classes": [],
            "_model_module": "@jupyter-widgets/controls",
            "_model_module_version": "1.5.0",
            "_model_name": "HTMLModel",
            "_view_count": null,
            "_view_module": "@jupyter-widgets/controls",
            "_view_module_version": "1.5.0",
            "_view_name": "HTMLView",
            "description": "",
            "description_tooltip": null,
            "layout": "IPY_MODEL_703fc3472ffe4ed1a185052f4c427b81",
            "placeholder": "​",
            "style": "IPY_MODEL_cd67418fd3a349ab9c7d4c901b7d6684",
            "value": "100%"
          }
        },
        "97e7ea7f2b1a449888725de5d66b9df5": {
          "model_module": "@jupyter-widgets/controls",
          "model_name": "FloatProgressModel",
          "model_module_version": "1.5.0",
          "state": {
            "_dom_classes": [],
            "_model_module": "@jupyter-widgets/controls",
            "_model_module_version": "1.5.0",
            "_model_name": "FloatProgressModel",
            "_view_count": null,
            "_view_module": "@jupyter-widgets/controls",
            "_view_module_version": "1.5.0",
            "_view_name": "ProgressView",
            "bar_style": "success",
            "description": "",
            "description_tooltip": null,
            "layout": "IPY_MODEL_b05b80c8c2b34bfc8d0396dd4f38916b",
            "max": 100,
            "min": 0,
            "orientation": "horizontal",
            "style": "IPY_MODEL_a7078a8cc96b476e95a1e174e7920bb1",
            "value": 100
          }
        },
        "db947227b9d84deea22cb5dd25b62532": {
          "model_module": "@jupyter-widgets/controls",
          "model_name": "HTMLModel",
          "model_module_version": "1.5.0",
          "state": {
            "_dom_classes": [],
            "_model_module": "@jupyter-widgets/controls",
            "_model_module_version": "1.5.0",
            "_model_name": "HTMLModel",
            "_view_count": null,
            "_view_module": "@jupyter-widgets/controls",
            "_view_module_version": "1.5.0",
            "_view_name": "HTMLView",
            "description": "",
            "description_tooltip": null,
            "layout": "IPY_MODEL_fbf1b5abdc35411096af14ada4da2000",
            "placeholder": "​",
            "style": "IPY_MODEL_3ec9e5779d274fecaa9459472da059cc",
            "value": " 100/100 [00:02&lt;00:00, 49.92it/s]"
          }
        },
        "6517951200d64424aed9c2f63ae0231a": {
          "model_module": "@jupyter-widgets/base",
          "model_name": "LayoutModel",
          "model_module_version": "1.2.0",
          "state": {
            "_model_module": "@jupyter-widgets/base",
            "_model_module_version": "1.2.0",
            "_model_name": "LayoutModel",
            "_view_count": null,
            "_view_module": "@jupyter-widgets/base",
            "_view_module_version": "1.2.0",
            "_view_name": "LayoutView",
            "align_content": null,
            "align_items": null,
            "align_self": null,
            "border": null,
            "bottom": null,
            "display": null,
            "flex": null,
            "flex_flow": null,
            "grid_area": null,
            "grid_auto_columns": null,
            "grid_auto_flow": null,
            "grid_auto_rows": null,
            "grid_column": null,
            "grid_gap": null,
            "grid_row": null,
            "grid_template_areas": null,
            "grid_template_columns": null,
            "grid_template_rows": null,
            "height": null,
            "justify_content": null,
            "justify_items": null,
            "left": null,
            "margin": null,
            "max_height": null,
            "max_width": null,
            "min_height": null,
            "min_width": null,
            "object_fit": null,
            "object_position": null,
            "order": null,
            "overflow": null,
            "overflow_x": null,
            "overflow_y": null,
            "padding": null,
            "right": null,
            "top": null,
            "visibility": null,
            "width": null
          }
        },
        "703fc3472ffe4ed1a185052f4c427b81": {
          "model_module": "@jupyter-widgets/base",
          "model_name": "LayoutModel",
          "model_module_version": "1.2.0",
          "state": {
            "_model_module": "@jupyter-widgets/base",
            "_model_module_version": "1.2.0",
            "_model_name": "LayoutModel",
            "_view_count": null,
            "_view_module": "@jupyter-widgets/base",
            "_view_module_version": "1.2.0",
            "_view_name": "LayoutView",
            "align_content": null,
            "align_items": null,
            "align_self": null,
            "border": null,
            "bottom": null,
            "display": null,
            "flex": null,
            "flex_flow": null,
            "grid_area": null,
            "grid_auto_columns": null,
            "grid_auto_flow": null,
            "grid_auto_rows": null,
            "grid_column": null,
            "grid_gap": null,
            "grid_row": null,
            "grid_template_areas": null,
            "grid_template_columns": null,
            "grid_template_rows": null,
            "height": null,
            "justify_content": null,
            "justify_items": null,
            "left": null,
            "margin": null,
            "max_height": null,
            "max_width": null,
            "min_height": null,
            "min_width": null,
            "object_fit": null,
            "object_position": null,
            "order": null,
            "overflow": null,
            "overflow_x": null,
            "overflow_y": null,
            "padding": null,
            "right": null,
            "top": null,
            "visibility": null,
            "width": null
          }
        },
        "cd67418fd3a349ab9c7d4c901b7d6684": {
          "model_module": "@jupyter-widgets/controls",
          "model_name": "DescriptionStyleModel",
          "model_module_version": "1.5.0",
          "state": {
            "_model_module": "@jupyter-widgets/controls",
            "_model_module_version": "1.5.0",
            "_model_name": "DescriptionStyleModel",
            "_view_count": null,
            "_view_module": "@jupyter-widgets/base",
            "_view_module_version": "1.2.0",
            "_view_name": "StyleView",
            "description_width": ""
          }
        },
        "b05b80c8c2b34bfc8d0396dd4f38916b": {
          "model_module": "@jupyter-widgets/base",
          "model_name": "LayoutModel",
          "model_module_version": "1.2.0",
          "state": {
            "_model_module": "@jupyter-widgets/base",
            "_model_module_version": "1.2.0",
            "_model_name": "LayoutModel",
            "_view_count": null,
            "_view_module": "@jupyter-widgets/base",
            "_view_module_version": "1.2.0",
            "_view_name": "LayoutView",
            "align_content": null,
            "align_items": null,
            "align_self": null,
            "border": null,
            "bottom": null,
            "display": null,
            "flex": null,
            "flex_flow": null,
            "grid_area": null,
            "grid_auto_columns": null,
            "grid_auto_flow": null,
            "grid_auto_rows": null,
            "grid_column": null,
            "grid_gap": null,
            "grid_row": null,
            "grid_template_areas": null,
            "grid_template_columns": null,
            "grid_template_rows": null,
            "height": null,
            "justify_content": null,
            "justify_items": null,
            "left": null,
            "margin": null,
            "max_height": null,
            "max_width": null,
            "min_height": null,
            "min_width": null,
            "object_fit": null,
            "object_position": null,
            "order": null,
            "overflow": null,
            "overflow_x": null,
            "overflow_y": null,
            "padding": null,
            "right": null,
            "top": null,
            "visibility": null,
            "width": null
          }
        },
        "a7078a8cc96b476e95a1e174e7920bb1": {
          "model_module": "@jupyter-widgets/controls",
          "model_name": "ProgressStyleModel",
          "model_module_version": "1.5.0",
          "state": {
            "_model_module": "@jupyter-widgets/controls",
            "_model_module_version": "1.5.0",
            "_model_name": "ProgressStyleModel",
            "_view_count": null,
            "_view_module": "@jupyter-widgets/base",
            "_view_module_version": "1.2.0",
            "_view_name": "StyleView",
            "bar_color": null,
            "description_width": ""
          }
        },
        "fbf1b5abdc35411096af14ada4da2000": {
          "model_module": "@jupyter-widgets/base",
          "model_name": "LayoutModel",
          "model_module_version": "1.2.0",
          "state": {
            "_model_module": "@jupyter-widgets/base",
            "_model_module_version": "1.2.0",
            "_model_name": "LayoutModel",
            "_view_count": null,
            "_view_module": "@jupyter-widgets/base",
            "_view_module_version": "1.2.0",
            "_view_name": "LayoutView",
            "align_content": null,
            "align_items": null,
            "align_self": null,
            "border": null,
            "bottom": null,
            "display": null,
            "flex": null,
            "flex_flow": null,
            "grid_area": null,
            "grid_auto_columns": null,
            "grid_auto_flow": null,
            "grid_auto_rows": null,
            "grid_column": null,
            "grid_gap": null,
            "grid_row": null,
            "grid_template_areas": null,
            "grid_template_columns": null,
            "grid_template_rows": null,
            "height": null,
            "justify_content": null,
            "justify_items": null,
            "left": null,
            "margin": null,
            "max_height": null,
            "max_width": null,
            "min_height": null,
            "min_width": null,
            "object_fit": null,
            "object_position": null,
            "order": null,
            "overflow": null,
            "overflow_x": null,
            "overflow_y": null,
            "padding": null,
            "right": null,
            "top": null,
            "visibility": null,
            "width": null
          }
        },
        "3ec9e5779d274fecaa9459472da059cc": {
          "model_module": "@jupyter-widgets/controls",
          "model_name": "DescriptionStyleModel",
          "model_module_version": "1.5.0",
          "state": {
            "_model_module": "@jupyter-widgets/controls",
            "_model_module_version": "1.5.0",
            "_model_name": "DescriptionStyleModel",
            "_view_count": null,
            "_view_module": "@jupyter-widgets/base",
            "_view_module_version": "1.2.0",
            "_view_name": "StyleView",
            "description_width": ""
          }
        }
      }
    }
  },
  "cells": [
    {
      "cell_type": "markdown",
      "metadata": {
        "id": "view-in-github",
        "colab_type": "text"
      },
      "source": [
        "<a href=\"https://colab.research.google.com/github/romjiik/DL_cours_HSE/blob/main/hw03_batchnorm_dropout.ipynb\" target=\"_parent\"><img src=\"https://colab.research.google.com/assets/colab-badge.svg\" alt=\"Open In Colab\"/></a>"
      ]
    },
    {
      "cell_type": "markdown",
      "metadata": {
        "id": "qvW8-J6we6By"
      },
      "source": [
        "# Обучение нейросетей — оптимизация и регуляризация\n"
      ]
    },
    {
      "cell_type": "markdown",
      "metadata": {
        "id": "1ecMva_Ge6B0"
      },
      "source": [
        "На это семинаре будет необходимо \n",
        "1. реализовать Dropout-слой и проследить его влияние на обобщающую способность сети \n",
        "2. реализовать BatchNormalization-слой"
      ]
    },
    {
      "cell_type": "markdown",
      "metadata": {
        "id": "wQZ-_wUwe6B0"
      },
      "source": [
        "## Dropout\n",
        "\n",
        "Как всегда будем экспериментировать на датасете MNIST. MNIST является стандартным бенчмарк-датасетом, и его можно подгрузить средствами pytorch."
      ]
    },
    {
      "cell_type": "code",
      "metadata": {
        "id": "v4S5PFg5e6B1"
      },
      "source": [
        "%matplotlib inline\n",
        "import matplotlib.pyplot as plt\n",
        "import numpy as np\n",
        "from IPython.display import clear_output\n",
        "\n",
        "import torch\n",
        "import torch.nn as nn\n",
        "import torch.nn.functional as F\n",
        "import torchvision.datasets as dsets\n",
        "import torchvision.transforms as transforms\n",
        "import torch.optim as optim\n",
        "from torch.utils.data.sampler import SubsetRandomSampler"
      ],
      "execution_count": 1,
      "outputs": []
    },
    {
      "cell_type": "code",
      "source": [
        "def seed_everything(seed: int):\n",
        "    import random, os\n",
        "    import numpy as np\n",
        "    import torch\n",
        "    \n",
        "    torch.use_deterministic_algorithms(True)\n",
        "    \n",
        "    random.seed(seed)\n",
        "    os.environ['PYTHONHASHSEED'] = str(seed)\n",
        "    np.random.seed(seed)\n",
        "    torch.manual_seed(seed)\n",
        "    torch.cuda.manual_seed(seed)\n",
        "    torch.backends.cudnn.deterministic = True\n",
        "    torch.backends.cudnn.benchmark = True"
      ],
      "metadata": {
        "id": "G78D4U8VPlXa"
      },
      "execution_count": 2,
      "outputs": []
    },
    {
      "cell_type": "code",
      "source": [
        "need_run_tests_and_training = 'google.colab' in str(get_ipython())\n",
        "need_run_tests_and_training"
      ],
      "metadata": {
        "id": "RDycPIfrP_f2",
        "outputId": "30dd6a0f-9da3-4cae-abcc-d987a4dce404",
        "colab": {
          "base_uri": "https://localhost:8080/"
        }
      },
      "execution_count": 3,
      "outputs": [
        {
          "output_type": "execute_result",
          "data": {
            "text/plain": [
              "True"
            ]
          },
          "metadata": {},
          "execution_count": 3
        }
      ]
    },
    {
      "cell_type": "code",
      "metadata": {
        "id": "5EuePwt3e6B5",
        "colab": {
          "base_uri": "https://localhost:8080/",
          "height": 423,
          "referenced_widgets": [
            "5089c47b7a9b4991887b97ee227c46ef",
            "29f9d351a50b48bda654522b590d272c",
            "d426d56305cd452e82dd136490896fd3",
            "ed52b27dec0e499fb826223d8cbff466",
            "4f24dd25024b4f5ab054fd24586428eb",
            "b78daab7e63e465da20933af380a268c",
            "9f941caf6884421188b5867b446c056e",
            "cf7fea62c0b94b12a9badc6f43e568aa",
            "b0dbfee291cf49cb948d25f6437a0b90",
            "99e0cae3cf8d4e959e3df9714abe490c",
            "28540b83e4264695a5e04ce983ad8517",
            "8223e41c92f2456caa302a75ca5c5d64",
            "8b5c624cc4894937baa6ab6d8a18d536",
            "df29bdea808d40be9d0984b1d60657e9",
            "d348243eae294c108c73bb93647a9946",
            "5fe797fcc6f34346b1f266b3eee88510",
            "08db18447e234abc80a247c6c99100e4",
            "9f6e44d0039c443686c3c5697cd8125b",
            "ea316cc168ac446ead1f25472053ec85",
            "cfe8f63316be494ca7ff73391f11de8c",
            "5beb6cccadfe44e38ef40bd97795919e",
            "182be724869e49fc9a48dd52832900e8",
            "6da45f80bba143e181552b23f69ed2ce",
            "2092037fc8424a45905715a9e2da8576",
            "244fd51636e0469b92f801731eda1561",
            "304c184847ea4c778d85421132b52e37",
            "0109e8732b5c485faa9e00b6f9b02518",
            "d2b7d738464f4bb696b66d3ecae8ac60",
            "cbc72654c5d044c595d60262d3499cec",
            "173059a605534fdf881c2aedb0cb4a76",
            "ea06508dcd7d48038d35e664300561b6",
            "a219d2988d4744398886d4e28d4d1f63",
            "67e724ecfd934e2e90a40cee0b8b1782",
            "8d2e56ce0e3f432bb85e5dfb63df4afc",
            "1effea0f1d364069b99f00dad99adfcb",
            "2d1cede5eaf4404fae6d113ecf33a67e",
            "c7864125a0b047588b6a248bcc05b404",
            "656b6f38064f4e7896a60fca414d537a",
            "ec869d25befa49ab84398d684338d39d",
            "38f14dd55f344654a30831aff5625214",
            "b5e75bf4ed604ee7bf80361f78836bdf",
            "a25da02ff4174d1caf4cbdf41e3bd1e3",
            "8a760be74f5a412b87d75cbd325e295d",
            "5b828918d191434c8dfcf325e18c50bd"
          ]
        },
        "outputId": "0f212b03-d2ab-46a7-9629-b13fa62ca7a7"
      },
      "source": [
        "input_size = 784\n",
        "num_classes = 10\n",
        "batch_size = 128\n",
        "\n",
        "train_dataset = dsets.MNIST(root='./MNIST/', \n",
        "                                   train=True, \n",
        "                                   transform=transforms.ToTensor(),\n",
        "                                   download=True)\n",
        "\n",
        "test_dataset = dsets.MNIST(root='./MNIST/', \n",
        "                                  train=False, \n",
        "                                  transform=transforms.ToTensor())\n",
        "\n",
        "train_loader = torch.utils.data.DataLoader(dataset=train_dataset, \n",
        "                                           batch_size=batch_size, \n",
        "                                           shuffle=True)\n",
        "\n",
        "test_loader = torch.utils.data.DataLoader(dataset=test_dataset, \n",
        "                                          batch_size=batch_size, \n",
        "                                          shuffle=False)"
      ],
      "execution_count": 4,
      "outputs": [
        {
          "output_type": "stream",
          "name": "stdout",
          "text": [
            "Downloading http://yann.lecun.com/exdb/mnist/train-images-idx3-ubyte.gz\n",
            "Downloading http://yann.lecun.com/exdb/mnist/train-images-idx3-ubyte.gz to ./MNIST/MNIST/raw/train-images-idx3-ubyte.gz\n"
          ]
        },
        {
          "output_type": "display_data",
          "data": {
            "text/plain": [
              "  0%|          | 0/9912422 [00:00<?, ?it/s]"
            ],
            "application/vnd.jupyter.widget-view+json": {
              "version_major": 2,
              "version_minor": 0,
              "model_id": "5089c47b7a9b4991887b97ee227c46ef"
            }
          },
          "metadata": {}
        },
        {
          "output_type": "stream",
          "name": "stdout",
          "text": [
            "Extracting ./MNIST/MNIST/raw/train-images-idx3-ubyte.gz to ./MNIST/MNIST/raw\n",
            "\n",
            "Downloading http://yann.lecun.com/exdb/mnist/train-labels-idx1-ubyte.gz\n",
            "Downloading http://yann.lecun.com/exdb/mnist/train-labels-idx1-ubyte.gz to ./MNIST/MNIST/raw/train-labels-idx1-ubyte.gz\n"
          ]
        },
        {
          "output_type": "display_data",
          "data": {
            "text/plain": [
              "  0%|          | 0/28881 [00:00<?, ?it/s]"
            ],
            "application/vnd.jupyter.widget-view+json": {
              "version_major": 2,
              "version_minor": 0,
              "model_id": "8223e41c92f2456caa302a75ca5c5d64"
            }
          },
          "metadata": {}
        },
        {
          "output_type": "stream",
          "name": "stdout",
          "text": [
            "Extracting ./MNIST/MNIST/raw/train-labels-idx1-ubyte.gz to ./MNIST/MNIST/raw\n",
            "\n",
            "Downloading http://yann.lecun.com/exdb/mnist/t10k-images-idx3-ubyte.gz\n",
            "Downloading http://yann.lecun.com/exdb/mnist/t10k-images-idx3-ubyte.gz to ./MNIST/MNIST/raw/t10k-images-idx3-ubyte.gz\n"
          ]
        },
        {
          "output_type": "display_data",
          "data": {
            "text/plain": [
              "  0%|          | 0/1648877 [00:00<?, ?it/s]"
            ],
            "application/vnd.jupyter.widget-view+json": {
              "version_major": 2,
              "version_minor": 0,
              "model_id": "6da45f80bba143e181552b23f69ed2ce"
            }
          },
          "metadata": {}
        },
        {
          "output_type": "stream",
          "name": "stdout",
          "text": [
            "Extracting ./MNIST/MNIST/raw/t10k-images-idx3-ubyte.gz to ./MNIST/MNIST/raw\n",
            "\n",
            "Downloading http://yann.lecun.com/exdb/mnist/t10k-labels-idx1-ubyte.gz\n",
            "Downloading http://yann.lecun.com/exdb/mnist/t10k-labels-idx1-ubyte.gz to ./MNIST/MNIST/raw/t10k-labels-idx1-ubyte.gz\n"
          ]
        },
        {
          "output_type": "display_data",
          "data": {
            "text/plain": [
              "  0%|          | 0/4542 [00:00<?, ?it/s]"
            ],
            "application/vnd.jupyter.widget-view+json": {
              "version_major": 2,
              "version_minor": 0,
              "model_id": "8d2e56ce0e3f432bb85e5dfb63df4afc"
            }
          },
          "metadata": {}
        },
        {
          "output_type": "stream",
          "name": "stdout",
          "text": [
            "Extracting ./MNIST/MNIST/raw/t10k-labels-idx1-ubyte.gz to ./MNIST/MNIST/raw\n",
            "\n"
          ]
        }
      ]
    },
    {
      "cell_type": "markdown",
      "metadata": {
        "id": "nUFeuDtfe6B9"
      },
      "source": [
        "Определим ряд стандартных функций с прошлых семинаров"
      ]
    },
    {
      "cell_type": "code",
      "metadata": {
        "id": "a_rmaGJQe6B9"
      },
      "source": [
        "def train_epoch(model, optimizer, batchsize=32):    \n",
        "    loss_log, acc_log = [], []\n",
        "    model.train()\n",
        "    for batch_num, (x_batch, y_batch) in enumerate(train_loader):\n",
        "        data = x_batch\n",
        "        target = y_batch\n",
        "\n",
        "        optimizer.zero_grad()\n",
        "        output = model(data)\n",
        "        pred = torch.max(output, 1)[1]\n",
        "        acc = torch.eq(pred, y_batch).float().mean()\n",
        "        acc_log.append(acc)\n",
        "        \n",
        "        loss = F.nll_loss(output, target).cpu()\n",
        "        loss.backward()\n",
        "        optimizer.step()\n",
        "        loss = loss.item()\n",
        "        loss_log.append(loss)\n",
        "    return loss_log, acc_log    \n",
        "\n",
        "def test(model):\n",
        "    loss_log, acc_log = [], []\n",
        "    model.eval()\n",
        "    for batch_num, (x_batch, y_batch) in enumerate(test_loader):    \n",
        "        data = x_batch\n",
        "        target = y_batch\n",
        "\n",
        "        output = model(data)\n",
        "        loss = F.nll_loss(output, target).cpu()\n",
        "\n",
        "        pred = torch.max(output, 1)[1]\n",
        "        acc = torch.eq(pred, y_batch).float().mean()\n",
        "        acc_log.append(acc)\n",
        "        \n",
        "        loss = loss.item()\n",
        "        loss_log.append(loss)\n",
        "    return loss_log, acc_log\n",
        "\n",
        "def plot_history(train_history, val_history, title='loss'):\n",
        "    plt.figure()\n",
        "    plt.title('{}'.format(title))\n",
        "    plt.plot(train_history, label='train', zorder=1)\n",
        "    \n",
        "    points = np.array(val_history)\n",
        "    \n",
        "    plt.scatter(points[:, 0], points[:, 1], marker='+', s=180, c='orange', label='val', zorder=2)\n",
        "    plt.xlabel('train steps')\n",
        "    \n",
        "    plt.legend(loc='best')\n",
        "    plt.grid()\n",
        "\n",
        "    plt.show()\n",
        "    \n",
        "def train(model, opt, n_epochs):\n",
        "\n",
        "    if not need_run_tests_and_training:\n",
        "        return\n",
        "\n",
        "    train_log, train_acc_log = [], []\n",
        "    val_log, val_acc_log = [], []\n",
        "\n",
        "\n",
        "    for epoch in range(n_epochs):\n",
        "        print(\"Epoch {0} of {1}\".format(epoch, n_epochs))\n",
        "        train_loss, train_acc = train_epoch(model, opt, batchsize=batch_size)\n",
        "\n",
        "        val_loss, val_acc = test(model)\n",
        "\n",
        "        train_log.extend(train_loss)\n",
        "        train_acc_log.extend(train_acc)\n",
        "\n",
        "        steps = train_dataset.train_labels.shape[0] / batch_size\n",
        "        val_log.append((steps * (epoch + 1), np.mean(val_loss)))\n",
        "        val_acc_log.append((steps * (epoch + 1), np.mean(val_acc)))\n",
        "        \n",
        "        clear_output()\n",
        "        plot_history(train_log, val_log)    \n",
        "        plot_history(train_acc_log, val_acc_log, title='accuracy')   \n",
        "        \n",
        "        print(\"Epoch: {2}, val loss: {0}, val accuracy: {1}\".format(np.mean(val_loss), np.mean(val_acc), epoch))\n"
      ],
      "execution_count": 5,
      "outputs": []
    },
    {
      "cell_type": "markdown",
      "metadata": {
        "id": "MjhiP5h-e6CA"
      },
      "source": [
        "Создайте простейшую однослойную модель - однослойную полносвязную сеть и обучите ее с параметрами оптимизации, заданными ниже."
      ]
    },
    {
      "cell_type": "code",
      "metadata": {
        "id": "TLB2iHNke6CB"
      },
      "source": [
        "   \n",
        "model = nn.Sequential(\n",
        "                    nn.Flatten(1),\n",
        "                    nn.Linear(input_size, num_classes),\n",
        "                    nn.LogSoftmax(dim=-1)\n",
        ")"
      ],
      "execution_count": 6,
      "outputs": []
    },
    {
      "cell_type": "code",
      "metadata": {
        "id": "z8ppSMDae6CE",
        "colab": {
          "base_uri": "https://localhost:8080/",
          "height": 590
        },
        "outputId": "9393aaf1-7e67-4245-ac4a-de15555139de"
      },
      "source": [
        "opt = torch.optim.Adam(model.parameters(), lr=0.0005)\n",
        "train(model, opt, 10)"
      ],
      "execution_count": 7,
      "outputs": [
        {
          "output_type": "display_data",
          "data": {
            "text/plain": [
              "<Figure size 432x288 with 1 Axes>"
            ],
            "image/png": "[encoded data removed]"
          },
          "metadata": {
            "needs_background": "light"
          }
        },
        {
          "output_type": "display_data",
          "data": {
            "text/plain": [
              "<Figure size 432x288 with 1 Axes>"
            ],
            "image/png": "[encoded data removed]"
          },
          "metadata": {
            "needs_background": "light"
          }
        },
        {
          "output_type": "stream",
          "name": "stdout",
          "text": [
            "Epoch: 9, val loss: 0.27287288726885106, val accuracy: 0.9231606125831604\n"
          ]
        }
      ]
    },
    {
      "cell_type": "markdown",
      "metadata": {
        "id": "7smJP34Pe6CH"
      },
      "source": [
        "Параметром обученной нейросети является матрица весов, в которой каждому классу соответствует один из 784-мерных столбцов. Визуализируйте обученные векторы для каждого из классов, сделав их двумерными изображениями 28-28. Для визуализации можно воспользоваться кодом для визуализации MNIST-картинок с предыдущих семинаров."
      ]
    },
    {
      "cell_type": "code",
      "source": [
        "model._modules['1'].weight.shape"
      ],
      "metadata": {
        "id": "6tov2FefZHmn",
        "colab": {
          "base_uri": "https://localhost:8080/"
        },
        "outputId": "ec1e74aa-651a-4d11-ccf7-f156bffb22a8"
      },
      "execution_count": 8,
      "outputs": [
        {
          "output_type": "execute_result",
          "data": {
            "text/plain": [
              "torch.Size([10, 784])"
            ]
          },
          "metadata": {},
          "execution_count": 8
        }
      ]
    },
    {
      "cell_type": "code",
      "metadata": {
        "id": "WIwBt7cJe6CH",
        "colab": {
          "base_uri": "https://localhost:8080/",
          "height": 270
        },
        "outputId": "d50f422e-f976-4635-acde-df598b80e337"
      },
      "source": [
        "weights = model._modules['1'].weight.detach().numpy()\n",
        "plt.figure(figsize=[10, 10])\n",
        "for i in range(10):\n",
        "    plt.subplot(5, 5, i + 1)\n",
        "    plt.title(\"Label: %i\" % i)\n",
        "    \n",
        "    plt.imshow(weights[i].reshape([28, 28]), cmap='gray');"
      ],
      "execution_count": 9,
      "outputs": [
        {
          "output_type": "display_data",
          "data": {
            "text/plain": [
              "<Figure size 720x720 with 10 Axes>"
            ],
            "image/png": "[encoded data removed]"
          },
          "metadata": {
            "needs_background": "light"
          }
        }
      ]
    },
    {
      "cell_type": "markdown",
      "metadata": {
        "id": "TIzsqWU_e6CL"
      },
      "source": [
        "Реализуйте Dropout-слой для полносвязной сети. Помните, что этот слой ведет себя по-разному во время обучения и во время применения. "
      ]
    },
    {
      "cell_type": "code",
      "source": [
        "import torch\n",
        "import torch.nn as nn\n",
        "import torch.nn.functional as F\n",
        "\n",
        "\n",
        "class DropoutLayer(nn.Module):\n",
        "    \"\"\"\n",
        "    https://pytorch.org/docs/stable/generated/torch.nn.Dropout.html\n",
        "    \"\"\"\n",
        "    def __init__(self, p=0.5, inplace=False):\n",
        "        super().__init__()\n",
        "        self.p = p\n",
        "        self.inplace = inplace\n",
        "\n",
        "    def forward(self, input):\n",
        "\n",
        "        if self.training:\n",
        "            mask = torch.empty(input.shape).fill_(1 - self.p)\n",
        "            mask_bernoulli = torch.bernoulli(mask)\n",
        "            if self.inplace == False:\n",
        "              input_clone = input.clone()\n",
        "              return input_clone.masked_fill_(mask_bernoulli == 0, 0) / (1 - self.p)\n",
        "            else:\n",
        "              return input.masked_fill_(mask_bernoulli == 0, 0) / (1 - self.p)\n",
        "        else:\n",
        "            return input\n"
      ],
      "metadata": {
        "id": "w3evQPpk4o9q"
      },
      "execution_count": 10,
      "outputs": []
    },
    {
      "cell_type": "code",
      "source": [
        "from tqdm.auto import tqdm\n",
        "\n",
        "def test_dropout_train():\n",
        "\n",
        "    zero_proba = 0.9\n",
        "    do = DropoutLayer(p=zero_proba, inplace=False)\n",
        "\n",
        "    assert do.p == zero_proba, f\"zero_proba is ok\"\n",
        "\n",
        "    do.train()\n",
        "\n",
        "    input_tensor = torch.rand( (7, 3, 28, 28) )\n",
        "    input_tensor_clone = input_tensor.clone()\n",
        "\n",
        "    dropouted_tensor = do(input_tensor)\n",
        "\n",
        "    assert (input_tensor_clone == input_tensor).all(), \"input tensor was not changed\"\n",
        "\n",
        "    # print()\n",
        "    zeroed_values = (dropouted_tensor == 0).sum()\n",
        "    # print(\"input_tensor.numel()\", input_tensor.numel())\n",
        "    expected_zeroed_values = input_tensor.numel() * do.p\n",
        "\n",
        "    assert (zeroed_values - expected_zeroed_values).abs() < 200, f\"zeroed_values={zeroed_values} expected_zeroed_values={expected_zeroed_values}\"\n",
        "\n",
        "    input_module = input_tensor.abs().sum()\n",
        "    output_module = dropouted_tensor.abs().sum()\n",
        "    module_diff = (input_module - output_module).abs()\n",
        "    assert module_diff < 1000, f\"input_norm {input_module}, outout_norm {output_module}, diff={module_diff}\"\n",
        "\n",
        "def test_dropout_eval():\n",
        "\n",
        "    with torch.no_grad():\n",
        "\n",
        "        zero_proba = 0.9\n",
        "        do = DropoutLayer(p=zero_proba, inplace=False)\n",
        "\n",
        "        assert do.p == zero_proba, f\"zero_proba is ok\"\n",
        "\n",
        "        do.eval()\n",
        "\n",
        "        input_tensor = torch.rand( (7, 3, 28, 28) )\n",
        "        input_tensor_clone = input_tensor.clone()\n",
        "\n",
        "        dropouted_tensor = do(input_tensor)\n",
        "\n",
        "        assert (input_tensor_clone == input_tensor).all(), \"input tensor was not changed\"\n",
        "        assert (dropouted_tensor == input_tensor_clone).all(), \"output tensor equals to input\"\n",
        "\n",
        "seed_everything(42)\n",
        "\n",
        "if need_run_tests_and_training:\n",
        "    for _ in tqdm(range(100)):\n",
        "        test_dropout_train()\n",
        "        test_dropout_eval()"
      ],
      "metadata": {
        "id": "BvYygPT8y1LD",
        "colab": {
          "base_uri": "https://localhost:8080/",
          "height": 49,
          "referenced_widgets": [
            "598220aa81bd4f3e9a27e3fbbe7f6435",
            "e6b3415bc4f44ed9b1c22941c2f6be8a",
            "3873a03c31f741a0829f58d7f6e5312c",
            "50d462cc636941a881b3db0ded6df6d7",
            "a2c7c8fa88a54de68311a449e6669004",
            "f9413096baa040268758a8797444b74a",
            "ec9894335e75406d80cda08066384977",
            "e5a2a053554c4d27b4b5134e37d53976",
            "cd97c4950a3b42f2b31c65958f205669",
            "ca82d5cead564374879bf798062442c3",
            "f0eb3563eab848adb7457857fa46113e"
          ]
        },
        "outputId": "ec64bc04-3837-4713-a592-c1a38a8c1191"
      },
      "execution_count": 13,
      "outputs": [
        {
          "output_type": "display_data",
          "data": {
            "text/plain": [
              "  0%|          | 0/100 [00:00<?, ?it/s]"
            ],
            "application/vnd.jupyter.widget-view+json": {
              "version_major": 2,
              "version_minor": 0,
              "model_id": "598220aa81bd4f3e9a27e3fbbe7f6435"
            }
          },
          "metadata": {}
        }
      ]
    },
    {
      "cell_type": "markdown",
      "metadata": {
        "id": "gvq4PLN_e6CO"
      },
      "source": [
        "Добавьте Dropout-слой в архитектуру сети, проведите оптимизацию с параметрами, заданными ранее, визуализируйте обученные веса. Есть ли разница между весами обученными с Dropout и без него? Параметр Dropout возьмите равным 0.7"
      ]
    },
    {
      "cell_type": "code",
      "metadata": {
        "id": "YsfjKbTye6CO"
      },
      "source": [
        "modelDp = nn.Sequential(\n",
        "                    nn.Flatten(1),\n",
        "                    DropoutLayer(p=0.7),\n",
        "                    nn.Linear(28 * 28, 10),\n",
        "                    nn.LogSoftmax(dim=-1)\n",
        "    )"
      ],
      "execution_count": 14,
      "outputs": []
    },
    {
      "cell_type": "code",
      "metadata": {
        "id": "KMlZHpXae6CR",
        "colab": {
          "base_uri": "https://localhost:8080/",
          "height": 590
        },
        "outputId": "57fb87e2-9124-42c6-825c-f389bb07af07"
      },
      "source": [
        "opt = torch.optim.Adam(modelDp.parameters(), lr=0.0005)\n",
        "train(modelDp, opt, 10)"
      ],
      "execution_count": 15,
      "outputs": [
        {
          "output_type": "display_data",
          "data": {
            "text/plain": [
              "<Figure size 432x288 with 1 Axes>"
            ],
            "image/png": "[encoded data removed]"
          },
          "metadata": {
            "needs_background": "light"
          }
        },
        {
          "output_type": "display_data",
          "data": {
            "text/plain": [
              "<Figure size 432x288 with 1 Axes>"
            ],
            "image/png": "[encoded data removed]"
          },
          "metadata": {
            "needs_background": "light"
          }
        },
        {
          "output_type": "stream",
          "name": "stdout",
          "text": [
            "Epoch: 9, val loss: 0.3429518669277807, val accuracy: 0.9098101258277893\n"
          ]
        }
      ]
    },
    {
      "cell_type": "code",
      "metadata": {
        "id": "Xzzz9Tkje6CT",
        "colab": {
          "base_uri": "https://localhost:8080/",
          "height": 270
        },
        "outputId": "7a83aba7-62ef-4312-e343-9ea6713681ae"
      },
      "source": [
        "weights = modelDp._modules['2'].weight.detach().numpy()\n",
        "plt.figure(figsize=[10, 10])\n",
        "for i in range(10):\n",
        "    plt.subplot(5, 5, i + 1)\n",
        "    plt.title(\"Label: %i\" % i)\n",
        "    plt.imshow(weights[i].reshape([28, 28]), cmap='gray');"
      ],
      "execution_count": 16,
      "outputs": [
        {
          "output_type": "display_data",
          "data": {
            "text/plain": [
              "<Figure size 720x720 with 10 Axes>"
            ],
            "image/png": "[encoded data removed]"
          },
          "metadata": {
            "needs_background": "light"
          }
        }
      ]
    },
    {
      "cell_type": "markdown",
      "metadata": {
        "id": "C5_G8wzQe6CW"
      },
      "source": [
        "Обучите еще одну модель, в которой вместо Dropout-регуляризации используется L2-регуляризация с коэффициентом 0.05. (Параметр weight_decay в оптимизаторе). Визуализируйте веса и сравните с двумя предыдущими подходами."
      ]
    },
    {
      "cell_type": "code",
      "metadata": {
        "id": "ayzHCMx8e6CX"
      },
      "source": [
        "model = nn.Sequential(\n",
        "    nn.Flatten(1),\n",
        "    nn.Linear(input_size,num_classes),\n",
        "    nn.LogSoftmax(dim=-1)\n",
        "    )"
      ],
      "execution_count": 17,
      "outputs": []
    },
    {
      "cell_type": "code",
      "metadata": {
        "id": "pWYcCBZ7e6CZ",
        "colab": {
          "base_uri": "https://localhost:8080/",
          "height": 590
        },
        "outputId": "53a3e8e3-b584-423f-89b0-e3fb497042b0"
      },
      "source": [
        "opt = torch.optim.Adam(model.parameters(), lr=0.0005, weight_decay=0.05)\n",
        "train(model, opt, 10)"
      ],
      "execution_count": 18,
      "outputs": [
        {
          "output_type": "display_data",
          "data": {
            "text/plain": [
              "<Figure size 432x288 with 1 Axes>"
            ],
            "image/png": "[encoded data removed]"
          },
          "metadata": {
            "needs_background": "light"
          }
        },
        {
          "output_type": "display_data",
          "data": {
            "text/plain": [
              "<Figure size 432x288 with 1 Axes>"
            ],
            "image/png": "[encoded data removed]"
          },
          "metadata": {
            "needs_background": "light"
          }
        },
        {
          "output_type": "stream",
          "name": "stdout",
          "text": [
            "Epoch: 9, val loss: 0.592697533814213, val accuracy: 0.884592592716217\n"
          ]
        }
      ]
    },
    {
      "cell_type": "code",
      "metadata": {
        "id": "BJbA2mA3e6Cd",
        "colab": {
          "base_uri": "https://localhost:8080/",
          "height": 270
        },
        "outputId": "65dca879-9736-4fc0-d9c3-4610a0642457"
      },
      "source": [
        "weights = model._modules['1'].weight.detach().numpy()\n",
        "plt.figure(figsize=[10, 10])\n",
        "for i in range(10):\n",
        "    plt.subplot(5, 5, i + 1)\n",
        "    plt.title(\"Label: %i\" % i)\n",
        "    plt.imshow(weights[i].reshape([28, 28]), cmap='gray');"
      ],
      "execution_count": 19,
      "outputs": [
        {
          "output_type": "display_data",
          "data": {
            "text/plain": [
              "<Figure size 720x720 with 10 Axes>"
            ],
            "image/png": "[encoded data removed]"
          },
          "metadata": {
            "needs_background": "light"
          }
        }
      ]
    },
    {
      "cell_type": "markdown",
      "metadata": {
        "id": "nKtMonw3e6Cf"
      },
      "source": [
        "## BatchNorm2d\n",
        "\n",
        "Реализуйте BatchNormalization слой для сверточной сети\n",
        "\n",
        "* `nn.Parameter` нужно использовать для того, чтобы определить обучаемые параметры для сети\n",
        "* буфферы нужно использовать для других тензоров, которые должны возвращаться в `state_dict()` модели, но для которых не нужно вычислять градиенты\n",
        "* В чем разница между register_buffer, register_parameter: [тык](https://stackoverflow.com/questions/57540745/what-is-the-difference-between-register-parameter-and-register-buffer-in-pytorch)\n",
        "* для буфферов не должны считаться градиенты, используте `.detach()` при операциях с тензорами, по которым считаются градиенты\n",
        "* Для того, чтобы заработал [broadcast](https://pytorch.org/docs/stable/notes/broadcasting.html) между тензорами разных рзаменностей, можно использовать .view(1, -1, 1, 1)\n"
      ]
    },
    {
      "cell_type": "code",
      "source": [
        "torch.arange(3).shape, torch.arange(3).view(1, -1, 1, 1).shape"
      ],
      "metadata": {
        "colab": {
          "base_uri": "https://localhost:8080/"
        },
        "id": "_sR3ASBhoRPf",
        "outputId": "237e2a07-936a-4763-c0b5-005f3b9b6a0c"
      },
      "execution_count": 20,
      "outputs": [
        {
          "output_type": "execute_result",
          "data": {
            "text/plain": [
              "(torch.Size([3]), torch.Size([1, 3, 1, 1]))"
            ]
          },
          "metadata": {},
          "execution_count": 20
        }
      ]
    },
    {
      "cell_type": "code",
      "source": [
        "torch.arange(3).view(1, -1, 1, 1)"
      ],
      "metadata": {
        "colab": {
          "base_uri": "https://localhost:8080/"
        },
        "id": "NiTXP8XjPtD3",
        "outputId": "8087202f-b24a-4b65-885b-cc3d84b20704"
      },
      "execution_count": 21,
      "outputs": [
        {
          "output_type": "execute_result",
          "data": {
            "text/plain": [
              "tensor([[[[0]],\n",
              "\n",
              "         [[1]],\n",
              "\n",
              "         [[2]]]])"
            ]
          },
          "metadata": {},
          "execution_count": 21
        }
      ]
    },
    {
      "cell_type": "code",
      "source": [
        "torch.zeros([2, 3, 4, 4]) - torch.arange(3).view(1, -1, 1, 1)"
      ],
      "metadata": {
        "colab": {
          "base_uri": "https://localhost:8080/"
        },
        "id": "ORr5C8JXoNlA",
        "outputId": "cbba2c7e-4747-4d26-aac4-e34891866318"
      },
      "execution_count": 22,
      "outputs": [
        {
          "output_type": "execute_result",
          "data": {
            "text/plain": [
              "tensor([[[[ 0.,  0.,  0.,  0.],\n",
              "          [ 0.,  0.,  0.,  0.],\n",
              "          [ 0.,  0.,  0.,  0.],\n",
              "          [ 0.,  0.,  0.,  0.]],\n",
              "\n",
              "         [[-1., -1., -1., -1.],\n",
              "          [-1., -1., -1., -1.],\n",
              "          [-1., -1., -1., -1.],\n",
              "          [-1., -1., -1., -1.]],\n",
              "\n",
              "         [[-2., -2., -2., -2.],\n",
              "          [-2., -2., -2., -2.],\n",
              "          [-2., -2., -2., -2.],\n",
              "          [-2., -2., -2., -2.]]],\n",
              "\n",
              "\n",
              "        [[[ 0.,  0.,  0.,  0.],\n",
              "          [ 0.,  0.,  0.,  0.],\n",
              "          [ 0.,  0.,  0.,  0.],\n",
              "          [ 0.,  0.,  0.,  0.]],\n",
              "\n",
              "         [[-1., -1., -1., -1.],\n",
              "          [-1., -1., -1., -1.],\n",
              "          [-1., -1., -1., -1.],\n",
              "          [-1., -1., -1., -1.]],\n",
              "\n",
              "         [[-2., -2., -2., -2.],\n",
              "          [-2., -2., -2., -2.],\n",
              "          [-2., -2., -2., -2.],\n",
              "          [-2., -2., -2., -2.]]]])"
            ]
          },
          "metadata": {},
          "execution_count": 22
        }
      ]
    },
    {
      "cell_type": "code",
      "metadata": {
        "id": "LWvaRXmOe6Cg"
      },
      "source": [
        "from typing import Optional, Any\n",
        "import torch\n",
        "import torch.nn as nn\n",
        "import torch.nn.functional as F\n",
        "\n",
        "class BatchNorm2dLayer(nn.Module):\n",
        "    \"\"\"\n",
        "    https://pytorch.org/docs/stable/generated/torch.nn.BatchNorm2d.html\n",
        "    \"\"\"\n",
        "\n",
        "    def __init__(self, num_features, eps=1e-05, momentum=0.1, affine=True, track_running_stats=True, device=None):\n",
        "        super().__init__()\n",
        "\n",
        "        self.eps = eps\n",
        "        self.momentum = momentum\n",
        "        self.affine = affine\n",
        "        self.num_features = num_features\n",
        "\n",
        "        self.track_running_stats = track_running_stats\n",
        "\n",
        "        if self.affine:\n",
        "            self.weight = nn.Parameter(torch.ones(num_features, device=device), requires_grad=True)\n",
        "            self.bias = nn.Parameter(torch.zeros(num_features, device=device), requires_grad=True)\n",
        "        else:\n",
        "            self.register_parameter(\"weight\", None)\n",
        "            self.register_parameter(\"bias\", None)\n",
        "\n",
        "        if self.track_running_stats:\n",
        "            self.register_buffer('running_mean', torch.zeros(num_features, device=device))\n",
        "            self.register_buffer('running_var', torch.ones(num_features, device=device))\n",
        "\n",
        "            self.register_buffer('num_batches_tracked',\n",
        "                                 torch.tensor(0, dtype=torch.long, device=device))\n",
        "\n",
        "            self.num_batches_tracked: Optional[torch.Tensor]\n",
        "        else:\n",
        "            self.register_buffer(\"running_mean\", None)\n",
        "            self.register_buffer(\"running_var\", None)\n",
        "            self.register_buffer(\"num_batches_tracked\", None)\n",
        "\n",
        "\n",
        "    def forward(self, input_tensor):\n",
        "        mean = input_tensor.mean(dim=[0, 2, 3])\n",
        "        var = input_tensor.var(dim=[0, 2, 3], unbiased=False)\n",
        "        if self.track_running_stats and self.training:\n",
        "            self.running_mean = (1 - self.momentum) * self.running_mean + self.momentum * mean.detach()\n",
        "            self.running_var = (1 - self.momentum) * self.running_var + self.momentum * var.detach()\n",
        "            self.num_batches_tracked += 1\n",
        "\n",
        "        if self.track_running_stats and not self.training:\n",
        "            mean = self.running_mean\n",
        "            var = self.running_var\n",
        "\n",
        "        input_tensor = (input_tensor - mean.view(1, -1, 1, 1)) / torch.sqrt(var.view(1, -1, 1, 1) + self.eps)\n",
        "        if self.affine:\n",
        "          input_tensor = self.weight.view(1, -1, 1, 1) * input_tensor + self.bias.view(1, -1, 1, 1)\n",
        "\n",
        "        return input_tensor\n",
        "\n",
        "    def __repr__(self):\n",
        "        return (\n",
        "            \"BatchNorm2dLayer({num_features}, eps={eps}, momentum={momentum}, affine={affine}, \"\n",
        "            \"track_running_stats={track_running_stats})\".format(**self.__dict__)\n",
        "        )"
      ],
      "execution_count": 27,
      "outputs": []
    },
    {
      "cell_type": "code",
      "source": [
        "from tqdm.auto import tqdm\n",
        "\n",
        "def _test_batch_norm(bn, torch_bn, description=\"train\"):\n",
        "\n",
        "    batch_size = 2\n",
        "    image_size = (3, 3)\n",
        "\n",
        "    for i in range(3):\n",
        "        batch = torch.rand([ batch_size, torch_bn.num_features, *image_size ])\n",
        "        batch_clone = batch.clone()\n",
        "\n",
        "        my_bn_out    = bn.forward(batch)\n",
        "        torch_bn_out = torch_bn.forward(batch)\n",
        "\n",
        "        # print(\"my_bn_out\", my_bn_out)\n",
        "        # print(\"torch_bn_out\", torch_bn_out)\n",
        "\n",
        "        assert (batch_clone == batch).all(), \"batch was not changed inside module\"\n",
        "\n",
        "        # check buffers\n",
        "        assert torch_bn.num_batches_tracked == bn.num_batches_tracked, f\"{description}: num_batches_tracked mismatch: {torch_bn.num_batches_tracked} == {bn.num_batches_tracked}\"\n",
        "        \n",
        "        if torch_bn.track_running_stats:\n",
        "            assert bn.running_mean.requires_grad == False, \"bn.running_mean should not requires_grad. Use .detach() for per batch means\"\n",
        "            assert bn.running_var.requires_grad == False, \"bn.running_var should not requires_grad. Use .detach() for per batch vars\"\n",
        "\n",
        "            assert torch_bn.running_mean.allclose(bn.running_mean), f\"{description}: running_mean mismatch: {torch_bn.running_mean} == {bn.running_mean}\"\n",
        "            assert torch_bn.running_var.allclose(bn.running_var, rtol=0.1), f\"{description}: running_var mismatch: {torch_bn.running_var} == {bn.running_var}\"\n",
        "\n",
        "        # check parameters\n",
        "        if torch_bn.affine:\n",
        "            assert torch_bn.weight.allclose(bn.weight), f\"{description}: weight mismatch: {torch_bn.weight} == {bn.weight}\"\n",
        "            assert torch_bn.bias.allclose(bn.bias), f\"{description}: bias mismatch: {torch_bn.bias} == {bn.bias}\"\n",
        "\n",
        "        assert torch_bn_out.allclose(my_bn_out, atol=1e-04, rtol=0.1), f\"{description}: {i} torch normalized batch equals to yours one\"\n",
        "\n",
        "    return\n",
        "\n",
        "\n",
        "def test_batch_norm_2d():\n",
        "\n",
        "    with torch.no_grad():\n",
        "\n",
        "        for num_channels in (1, 2, 3):\n",
        "\n",
        "            test_descr = f\"train: [channels={num_channels}]\"\n",
        "\n",
        "            bn = BatchNorm2dLayer(num_channels, track_running_stats=True).train()\n",
        "            torch_bn = nn.BatchNorm2d(num_channels, track_running_stats=True).train()\n",
        "\n",
        "            _test_batch_norm(bn, torch_bn, description=test_descr)\n",
        "\n",
        "            bn.eval()\n",
        "            torch_bn.eval()\n",
        "            \n",
        "            test_descr = f\"eval: [channels={num_channels}]\"\n",
        "            _test_batch_norm(bn, torch_bn, description=test_descr)\n",
        "        \n",
        "def test_batch_norm_2d_do_not_track_running_stats():\n",
        "\n",
        "    with torch.no_grad():\n",
        "\n",
        "        for num_channels in (1, 2, 3):\n",
        "\n",
        "            test_descr = f\"train: [channels={num_channels}]\"\n",
        "\n",
        "            bn = BatchNorm2dLayer(num_channels, track_running_stats=False).train()\n",
        "            torch_bn = nn.BatchNorm2d(num_channels, track_running_stats=False).train()\n",
        "\n",
        "            _test_batch_norm(bn, torch_bn, description=test_descr)\n",
        "\n",
        "            bn.eval()\n",
        "            torch_bn.eval()\n",
        "            \n",
        "            test_descr = f\"eval: [channels={num_channels}]\"\n",
        "            _test_batch_norm(bn, torch_bn, description=test_descr)\n",
        "        \n",
        "def test_batch_norm_2d_do_not_track_running_stats_not_affine():\n",
        "\n",
        "    with torch.no_grad():\n",
        "\n",
        "        for num_channels in (1, 2, 3):\n",
        "\n",
        "            test_descr = f\"train: [channels={num_channels}]\"\n",
        "\n",
        "            bn = BatchNorm2dLayer(num_channels, track_running_stats=False, affine=False).train()\n",
        "            torch_bn = nn.BatchNorm2d(num_channels, track_running_stats=False, affine=False).train()\n",
        "\n",
        "            _test_batch_norm(bn, torch_bn, description=test_descr)\n",
        "\n",
        "            bn.eval()\n",
        "            torch_bn.eval()\n",
        "            \n",
        "            test_descr = f\"eval: [channels={num_channels}]\"\n",
        "            _test_batch_norm(bn, torch_bn, description=test_descr)\n",
        "        \n",
        "\n",
        "seed_everything(42)\n",
        "\n",
        "if need_run_tests_and_training:\n",
        "    for _ in tqdm(range(100)):\n",
        "        test_batch_norm_2d()\n",
        "        test_batch_norm_2d_do_not_track_running_stats()\n",
        "        test_batch_norm_2d_do_not_track_running_stats_not_affine()"
      ],
      "metadata": {
        "id": "b3DvFg-ggTOm",
        "colab": {
          "base_uri": "https://localhost:8080/",
          "height": 49,
          "referenced_widgets": [
            "695c0f2817584d0d9ebd7baf3ad92b33",
            "76689768fda7486db8c1b329a9cc6a24",
            "97e7ea7f2b1a449888725de5d66b9df5",
            "db947227b9d84deea22cb5dd25b62532",
            "6517951200d64424aed9c2f63ae0231a",
            "703fc3472ffe4ed1a185052f4c427b81",
            "cd67418fd3a349ab9c7d4c901b7d6684",
            "b05b80c8c2b34bfc8d0396dd4f38916b",
            "a7078a8cc96b476e95a1e174e7920bb1",
            "fbf1b5abdc35411096af14ada4da2000",
            "3ec9e5779d274fecaa9459472da059cc"
          ]
        },
        "outputId": "145878ae-b49c-47c0-9a1d-6685ad802e91"
      },
      "execution_count": 28,
      "outputs": [
        {
          "output_type": "display_data",
          "data": {
            "text/plain": [
              "  0%|          | 0/100 [00:00<?, ?it/s]"
            ],
            "application/vnd.jupyter.widget-view+json": {
              "version_major": 2,
              "version_minor": 0,
              "model_id": "695c0f2817584d0d9ebd7baf3ad92b33"
            }
          },
          "metadata": {}
        }
      ]
    },
    {
      "cell_type": "markdown",
      "metadata": {
        "id": "_tpNTUWVe6Ci"
      },
      "source": [
        "Обучите сверточную сеть с batch_norm'ом"
      ]
    },
    {
      "cell_type": "code",
      "metadata": {
        "id": "406kS0wFe6Co"
      },
      "source": [
        "modelBN = nn.Sequential(\n",
        "    BatchNorm2dLayer(1),\n",
        "    nn.Conv2d(1, 2, kernel_size=3, padding=1),\n",
        "    nn.ReLU(),\n",
        "    BatchNorm2dLayer(2),\n",
        "    nn.Conv2d(2, 4, kernel_size=3, padding=1),\n",
        "    nn.ReLU(),\n",
        "    BatchNorm2dLayer(4),\n",
        "    nn.Conv2d(4, 1, kernel_size=3, padding=1),\n",
        "    nn.Flatten(1),\n",
        "    nn.Linear(28 * 28 * 1, num_classes),\n",
        "    nn.LogSoftmax(dim=-1)\n",
        "    )"
      ],
      "execution_count": 29,
      "outputs": []
    },
    {
      "cell_type": "code",
      "metadata": {
        "id": "Uqt2bVKWe6Cq",
        "colab": {
          "base_uri": "https://localhost:8080/",
          "height": 590
        },
        "outputId": "05a44aed-82be-405e-a9e3-5476764aee16"
      },
      "source": [
        "opt = torch.optim.RMSprop(modelBN.parameters(), lr=0.01)\n",
        "train(modelBN, opt, 3)"
      ],
      "execution_count": 30,
      "outputs": [
        {
          "output_type": "display_data",
          "data": {
            "text/plain": [
              "<Figure size 432x288 with 1 Axes>"
            ],
            "image/png": "[encoded data removed]"
          },
          "metadata": {
            "needs_background": "light"
          }
        },
        {
          "output_type": "display_data",
          "data": {
            "text/plain": [
              "<Figure size 432x288 with 1 Axes>"
            ],
            "image/png": "[encoded data removed]"
          },
          "metadata": {
            "needs_background": "light"
          }
        },
        {
          "output_type": "stream",
          "name": "stdout",
          "text": [
            "Epoch: 2, val loss: 0.15726005717746536, val accuracy: 0.9506527185440063\n"
          ]
        }
      ]
    },
    {
      "cell_type": "code",
      "source": [
        "for m in modelBN.modules():\n",
        "    if isinstance(m, BatchNorm2dLayer):\n",
        "        print(m)\n",
        "        print(\"Parameters:\", \"weight       =\", m.weight.data,  \"bias        =\", m.bias.data)\n",
        "        print(\"Buffers:   \", \"running_mean =\", m.running_mean, \"running_var =\", m.running_var)\n",
        "        print(\"\\n\")"
      ],
      "metadata": {
        "id": "rLfxoI2zY30Z",
        "colab": {
          "base_uri": "https://localhost:8080/"
        },
        "outputId": "6102468d-db44-4b97-ca9c-163ae1a0c482"
      },
      "execution_count": 31,
      "outputs": [
        {
          "output_type": "stream",
          "name": "stdout",
          "text": [
            "BatchNorm2dLayer(1, eps=1e-05, momentum=0.1, affine=True, track_running_stats=True)\n",
            "Parameters: weight       = tensor([1.5054]) bias        = tensor([-0.2141])\n",
            "Buffers:    running_mean = tensor([0.1302]) running_var = tensor([0.0947])\n",
            "\n",
            "\n",
            "BatchNorm2dLayer(2, eps=1e-05, momentum=0.1, affine=True, track_running_stats=True)\n",
            "Parameters: weight       = tensor([1.1270, 1.1496]) bias        = tensor([ 0.1840, -0.0369])\n",
            "Buffers:    running_mean = tensor([0.4123, 0.7004]) running_var = tensor([1.0818, 3.0255])\n",
            "\n",
            "\n",
            "BatchNorm2dLayer(4, eps=1e-05, momentum=0.1, affine=True, track_running_stats=True)\n",
            "Parameters: weight       = tensor([0.0555, 0.1791, 0.2434, 0.3499]) bias        = tensor([-0.0283, -0.0520, -0.0640, -0.0630])\n",
            "Buffers:    running_mean = tensor([0.8846, 0.4774, 0.4050, 0.2230]) running_var = tensor([0.6171, 1.9652, 1.3399, 0.9341])\n",
            "\n",
            "\n"
          ]
        }
      ]
    },
    {
      "cell_type": "code",
      "source": [],
      "metadata": {
        "id": "QWbPfXPyV4m4"
      },
      "execution_count": null,
      "outputs": []
    }
  ]
}